{
 "cells": [
  {
   "cell_type": "code",
   "execution_count": 2,
   "metadata": {},
   "outputs": [],
   "source": [
    "import torch\n",
    "import torchvision\n",
    "import torchvision.transforms as transforms\n",
    "import matplotlib.pyplot as plt\n",
    "import numpy as np\n",
    "import torch.optim as optim\n",
    "from torch.autograd import Variable\n",
    "import torch.nn as nn\n",
    "import torch.nn.functional as F\n",
    "import time\n",
    "import torch\n",
    "import torch.nn as nn\n",
    "import torch.nn.functional as F\n",
    "import numpy as np\n",
    "import torch\n",
    "from torch.autograd import Variable\n",
    "import torch.nn as nn\n",
    "from torch.utils.data import sampler\n",
    "import torchvision.models as models\n",
    "import math\n",
    "import torch.nn as nn\n",
    "import torch.nn.init as init\n",
    "%matplotlib nbagg"
   ]
  },
  {
   "cell_type": "markdown",
   "metadata": {},
   "source": [
    "Load and process CIFAR 10 data"
   ]
  },
  {
   "cell_type": "code",
   "execution_count": 3,
   "metadata": {},
   "outputs": [
    {
     "name": "stdout",
     "output_type": "stream",
     "text": [
      "Files already downloaded and verified\n",
      "Files already downloaded and verified\n"
     ]
    }
   ],
   "source": [
    "#from pytorch tutorial\n",
    "transform = transforms.Compose(\n",
    "    [transforms.ToTensor(),\n",
    "     transforms.Normalize((0.5, 0.5, 0.5), (0.5, 0.5, 0.5))])\n",
    "\n",
    "trainset = torchvision.datasets.CIFAR10(root='./data', train=True,\n",
    "                                        download=True, transform=transform)\n",
    "trainloader = torch.utils.data.DataLoader(trainset, batch_size=4,\n",
    "                                          shuffle=True, num_workers=2)\n",
    "\n",
    "testset = torchvision.datasets.CIFAR10(root='./data', train=False,\n",
    "                                       download=True, transform=transform)\n",
    "testloader = torch.utils.data.DataLoader(testset, batch_size=4,\n",
    "                                         shuffle=False, num_workers=2)\n",
    "\n",
    "classes = ('plane', 'car', 'bird', 'cat',\n",
    "           'deer', 'dog', 'frog', 'horse', 'ship', 'truck')\n",
    "\n",
    "normalize = transforms.Normalize(mean=[0.485, 0.456, 0.406],\n",
    "                                 std=[0.229, 0.224, 0.225])"
   ]
  },
  {
   "cell_type": "markdown",
   "metadata": {},
   "source": [
    "Look at example CIFAR images"
   ]
  },
  {
   "cell_type": "code",
   "execution_count": 4,
   "metadata": {},
   "outputs": [
    {
     "name": "stdout",
     "output_type": "stream",
     "text": [
      " deer horse truck   cat\n"
     ]
    },
    {
     "data": {
      "image/png": "[encoded data removed]",
      "text/plain": [
       "<matplotlib.figure.Figure at 0x7fa07baf7050>"
      ]
     },
     "metadata": {},
     "output_type": "display_data"
    }
   ],
   "source": [
    "#from pytorch tutorial\n",
    "def imshow(img):\n",
    "    img = img / 2 + 0.5     # unnormalize\n",
    "    npimg = img.numpy()\n",
    "    plt.imshow(np.transpose(npimg, (1, 2, 0)))\n",
    "\n",
    "# get some random training images\n",
    "dataiter = iter(trainloader)\n",
    "images, labels = dataiter.next()\n",
    "\n",
    "# show images\n",
    "imshow(torchvision.utils.make_grid(images))\n",
    "# print labels\n",
    "print(' '.join('%5s' % classes[labels[j]] for j in range(4)))"
   ]
  },
  {
   "cell_type": "markdown",
   "metadata": {},
   "source": [
    "Define wrappers for masking out weights"
   ]
  },
  {
   "cell_type": "code",
   "execution_count": 5,
   "metadata": {},
   "outputs": [],
   "source": [
    "'''\n",
    "Modified from https://github.com/ChristopherSweeney/pytorch-weights_pruning\n",
    "'''\n",
    "\n",
    "class MaskedLinear(nn.Linear):\n",
    "    def __init__(self, in_features, out_features, bias=True):\n",
    "        super(MaskedLinear, self).__init__(in_features, out_features, bias)\n",
    "        self.mask_flag = False\n",
    "    \n",
    "    def set_mask(self, mask):\n",
    "        self.mask = to_var(mask, requires_grad=False)\n",
    "        self.weight.data = self.weight.data*self.mask.data\n",
    "        self.mask_flag = True\n",
    "    \n",
    "    def get_mask(self):\n",
    "        print(self.mask_flag)\n",
    "        return self.mask\n",
    "    \n",
    "    def forward(self, x):\n",
    "        if self.mask_flag == True:\n",
    "            weight = self.weight*self.mask\n",
    "            return F.linear(x, weight, self.bias)\n",
    "        else:\n",
    "            return F.linear(x, self.weight, self.bias)\n",
    "        \n",
    "        \n",
    "class MaskedConv2d(nn.Conv2d):\n",
    "    def __init__(self, in_channels, out_channels, kernel_size, stride=1,\n",
    "                 padding=0, dilation=1, groups=1, bias=True):\n",
    "        super(MaskedConv2d, self).__init__(in_channels, out_channels, \n",
    "            kernel_size, stride, padding, dilation, groups, bias)\n",
    "        self.mask_flag = False\n",
    "    \n",
    "    def set_mask(self, mask):\n",
    "        self.mask = to_var(mask, requires_grad=False)\n",
    "        self.weight.data = self.weight.data*self.mask.data\n",
    "        self.mask_flag = True\n",
    "    \n",
    "    def get_mask(self):\n",
    "        print(self.mask_flag)\n",
    "        return self.mask\n",
    "    \n",
    "    def forward(self, x):\n",
    "        if self.mask_flag == True:\n",
    "            weight = self.weight*self.mask\n",
    "            return F.conv2d(x, weight, self.bias, self.stride,\n",
    "                        self.padding, self.dilation, self.groups)\n",
    "        else:\n",
    "            return F.conv2d(x, self.weight, self.bias, self.stride,\n",
    "                        self.padding, self.dilation, self.groups)\n",
    "        "
   ]
  },
  {
   "cell_type": "code",
   "execution_count": 12,
   "metadata": {},
   "outputs": [],
   "source": [
    "'''\n",
    "Modified from https://github.com/pytorch/vision.git\n",
    "'''\n",
    "#make vgg with masked layers\n",
    "class VGG(nn.Module):\n",
    "    def __init__(self, features,width=512,classes=10):\n",
    "        super(VGG, self).__init__()\n",
    "        self.features = features\n",
    "        self.classifier = nn.Sequential(\n",
    "            MaskedLinear(width,width),\n",
    "            nn.ReLU(True),\n",
    "            nn.Dropout(),\n",
    "            MaskedLinear(width, width),\n",
    "            nn.ReLU(True),\n",
    "            nn.Dropout(),\n",
    "            MaskedLinear(width, classes),\n",
    "        )\n",
    "        for m in self.modules():\n",
    "            if isinstance(m, nn.Conv2d):\n",
    "                n = m.kernel_size[0] * m.kernel_size[1] * m.out_channels\n",
    "                m.weight.data.normal_(0, math.sqrt(2. / n))\n",
    "                m.bias.data.zero_()\n",
    "\n",
    "    def forward(self, x):\n",
    "        x = self.features(x)\n",
    "        x = x.view(x.size(0), -1)\n",
    "        x = self.classifier(x)\n",
    "        return x\n",
    "\n",
    "def make_masked_layers(cfg, batch_norm=False):\n",
    "    layers = []\n",
    "    in_channels = 3\n",
    "    for v in cfg:\n",
    "        if v == 'M':\n",
    "            layers += [nn.MaxPool2d(kernel_size=2, stride=2)]\n",
    "        else:\n",
    "            conv2d = MaskedConv2d(in_channels, v, kernel_size=3, padding=1)\n",
    "            layers += [conv2d, nn.ReLU(inplace=True)]\n",
    "            in_channels = v\n",
    "    return nn.Sequential(*layers)\n",
    "\n",
    "config = {\n",
    "    'A': [64, 'M', 128, 'M', 256, 256, 'M', 512, 512, 'M', 512, 512, 'M'],\n",
    "    'B': [64, 64, 'M', 128, 128, 'M', 256, 256, 'M', 512, 512, 'M', 512, 512, 'M'],\n",
    "    'D': [64, 64, 'M', 128, 128, 'M', 256, 256, 256, 'M', 512, 512, 512, 'M', 512, 512, 512, 'M'],\n",
    "    'E': [64, 64, 'M', 128, 128, 'M', 256, 256, 256, 256, 'M', 512, 512, 512, 512, 'M', \n",
    "          512, 512, 512, 512, 'M'],\n",
    "    'T': [2, 'M', 4, 'M', 8, 8, 'M', 16, 16, 'M', 16, 16, 'M'],\n",
    "}\n",
    "\n",
    "def vgg_lite():\n",
    "    return VGG(make_masked_layers(config['T']),width=16)\n",
    "\n",
    "def vgg11():\n",
    "    \"\"\"VGG 11-layer model (configuration \"A\")\"\"\"\n",
    "    return VGG(make_masked_layers(config['A']))\n",
    "\n",
    "def vgg13():\n",
    "    \"\"\"VGG 13-layer model (configuration \"B\")\"\"\"\n",
    "    return VGG(make_masked_layers(config['B']))\n",
    "\n",
    "def vgg16():\n",
    "    \"\"\"VGG 16-layer model (configuration \"D\")\"\"\"\n",
    "    return VGG(make_masked_layers(config['D']))\n",
    "\n",
    "def vgg19():\n",
    "    \"\"\"VGG 19-layer model (configuration \"E\")\"\"\"\n",
    "    return VGG(make_masked_layers(config['E']))\n"
   ]
  },
  {
   "cell_type": "code",
   "execution_count": 13,
   "metadata": {},
   "outputs": [],
   "source": [
    "\"\"\"\n",
    "adapted from https://github.com/ChristopherSweeney/pytorch-weights_pruning\n",
    "\"\"\"\n",
    "\n",
    "def to_var(x, requires_grad=False, volatile=False):\n",
    "    if torch.cuda.is_available():\n",
    "        x = x.cuda()\n",
    "    return Variable(x, requires_grad=requires_grad, volatile=volatile)\n",
    "\n",
    "def prune_rate(model):\n",
    "    total_nb_param = 0\n",
    "    nb_zero_param = 0\n",
    "\n",
    "    layer_id = 0\n",
    "\n",
    "    for parameter in model.parameters():\n",
    "\n",
    "        param_this_layer = 1\n",
    "        for dim in parameter.data.size():\n",
    "            param_this_layer *= dim\n",
    "        total_nb_param += param_this_layer\n",
    "\n",
    "        if len(parameter.data.size()) != 1:\n",
    "            layer_id += 1\n",
    "            zero_param_this_layer = np.count_nonzero(parameter.cpu().data.numpy()==0)\n",
    "            nb_zero_param += zero_param_this_layer\n",
    "\n",
    "            print(\"Layer {} | {} layer | {:.2f}% parameters pruned\" \\\n",
    "                    .format(\n",
    "                        layer_id,\n",
    "                        'Conv' if len(parameter.data.size()) == 4 \\\n",
    "                            else 'Linear',\n",
    "                        100.*zero_param_this_layer/param_this_layer,\n",
    "                        ))\n",
    "    pruning_perc = 100.*nb_zero_param/total_nb_param\n",
    "    print(\"Final pruning rate: {:.2f}%\".format(pruning_perc))\n",
    "    return pruning_perc"
   ]
  },
  {
   "cell_type": "markdown",
   "metadata": {},
   "source": [
    "modify pretrain weights to be compatible with my model"
   ]
  },
  {
   "cell_type": "code",
   "execution_count": 14,
   "metadata": {},
   "outputs": [],
   "source": [
    "w = torch.load(\"/home/drc/Downloads/model_best.pth.tar\")\n",
    "w = w['state_dict']\n",
    "for key in w.keys()[:32]:\n",
    "    new_key = key.split(\".\")\n",
    "    nkey = new_key[0]+'.'+new_key[2]+'.'+new_key[3]\n",
    "    w[nkey] = w[key]\n",
    "    del w[key]\n",
    "w['classifier.0.weight'] =w['classifier.1.weight']\n",
    "w['classifier.0.bias'] = w['classifier.1.bias']\n",
    "w['classifier.3.weight'] = w['classifier.4.weight']\n",
    "w['classifier.3.bias'] = w['classifier.4.bias']\n",
    "del w['classifier.1.bias']\n",
    "del w['classifier.4.bias']\n",
    "del w['classifier.1.weight']\n",
    "del w['classifier.4.weight']"
   ]
  },
  {
   "cell_type": "markdown",
   "metadata": {},
   "source": [
    "load model"
   ]
  },
  {
   "cell_type": "code",
   "execution_count": 15,
   "metadata": {},
   "outputs": [],
   "source": [
    "import torch.utils.model_zoo as model_zoo\n",
    "vgg_model = vgg19()\n",
    "#sd = torch.load('/home/drc/Downloads/model_best.pth.tar')\n",
    "vgg_model.load_state_dict(w)\n",
    "vgg_model = vgg_model.cuda()\n",
    "import copy\n",
    "model = copy.deepcopy(vgg_model)"
   ]
  },
  {
   "cell_type": "code",
   "execution_count": 422,
   "metadata": {},
   "outputs": [],
   "source": [
    "criterion = nn.CrossEntropyLoss()\n",
    "optimizer = optim.SGD(model.parameters(), lr=0.001, momentum=0.9)"
   ]
  },
  {
   "cell_type": "code",
   "execution_count": 79,
   "metadata": {
    "scrolled": true
   },
   "outputs": [
    {
     "name": "stdout",
     "output_type": "stream",
     "text": [
      "[1,     1] loss: 0.000\n",
      "[1,  2001] loss: 0.704\n"
     ]
    },
    {
     "name": "stderr",
     "output_type": "stream",
     "text": [
      "Process Process-60:\n",
      "    return recv()\n",
      "Process Process-59:\n",
      "Traceback (most recent call last):\n",
      "Traceback (most recent call last):\n",
      "  File \"/usr/lib/python2.7/multiprocessing/process.py\", line 258, in _bootstrap\n",
      "  File \"/usr/lib/python2.7/multiprocessing/process.py\", line 258, in _bootstrap\n",
      "    self.run()\n",
      "    self.run()\n",
      "  File \"/usr/lib/python2.7/multiprocessing/process.py\", line 114, in run\n",
      "    self._target(*self._args, **self._kwargs)\n",
      "  File \"/usr/lib/python2.7/multiprocessing/process.py\", line 114, in run\n",
      "  File \"/usr/local/lib/python2.7/dist-packages/torch/utils/data/dataloader.py\", line 36, in _worker_loop\n",
      "    self._target(*self._args, **self._kwargs)\n",
      "    r = index_queue.get()\n",
      "  File \"/usr/lib/python2.7/multiprocessing/queues.py\", line 378, in get\n",
      "  File \"/usr/local/lib/python2.7/dist-packages/torch/utils/data/dataloader.py\", line 36, in _worker_loop\n",
      "    r = index_queue.get()\n",
      "  File \"/usr/local/lib/python2.7/dist-packages/torch/multiprocessing/queue.py\", line 21, in recv\n",
      "  File \"/usr/lib/python2.7/multiprocessing/queues.py\", line 376, in get\n",
      "    buf = self.recv_bytes()\n",
      "    racquire()\n",
      "KeyboardInterrupt\n",
      "KeyboardInterrupt\n"
     ]
    },
    {
     "ename": "KeyboardInterrupt",
     "evalue": "",
     "output_type": "error",
     "traceback": [
      "\u001b[0;31m---------------------------------------------------------------------------\u001b[0m",
      "\u001b[0;31mKeyboardInterrupt\u001b[0m                         Traceback (most recent call last)",
      "\u001b[0;32m<ipython-input-79-95be260a7154>\u001b[0m in \u001b[0;36m<module>\u001b[0;34m()\u001b[0m\n\u001b[1;32m     10\u001b[0m         \u001b[0moutputs\u001b[0m \u001b[0;34m=\u001b[0m \u001b[0mmodel\u001b[0m\u001b[0;34m(\u001b[0m\u001b[0minputs\u001b[0m\u001b[0;34m)\u001b[0m\u001b[0;34m\u001b[0m\u001b[0m\n\u001b[1;32m     11\u001b[0m         \u001b[0mloss\u001b[0m \u001b[0;34m=\u001b[0m \u001b[0mcriterion\u001b[0m\u001b[0;34m(\u001b[0m\u001b[0moutputs\u001b[0m\u001b[0;34m,\u001b[0m \u001b[0mlabels\u001b[0m\u001b[0;34m)\u001b[0m\u001b[0;34m\u001b[0m\u001b[0m\n\u001b[0;32m---> 12\u001b[0;31m         \u001b[0mloss\u001b[0m\u001b[0;34m.\u001b[0m\u001b[0mbackward\u001b[0m\u001b[0;34m(\u001b[0m\u001b[0;34m)\u001b[0m\u001b[0;34m\u001b[0m\u001b[0m\n\u001b[0m\u001b[1;32m     13\u001b[0m         \u001b[0moptimizer\u001b[0m\u001b[0;34m.\u001b[0m\u001b[0mstep\u001b[0m\u001b[0;34m(\u001b[0m\u001b[0;34m)\u001b[0m\u001b[0;34m\u001b[0m\u001b[0m\n\u001b[1;32m     14\u001b[0m \u001b[0;34m\u001b[0m\u001b[0m\n",
      "\u001b[0;32m/usr/local/lib/python2.7/dist-packages/torch/autograd/variable.pyc\u001b[0m in \u001b[0;36mbackward\u001b[0;34m(self, gradient, retain_graph, create_graph, retain_variables)\u001b[0m\n\u001b[1;32m    165\u001b[0m                 \u001b[0mVariable\u001b[0m\u001b[0;34m.\u001b[0m\u001b[0;34m\u001b[0m\u001b[0m\n\u001b[1;32m    166\u001b[0m         \"\"\"\n\u001b[0;32m--> 167\u001b[0;31m         \u001b[0mtorch\u001b[0m\u001b[0;34m.\u001b[0m\u001b[0mautograd\u001b[0m\u001b[0;34m.\u001b[0m\u001b[0mbackward\u001b[0m\u001b[0;34m(\u001b[0m\u001b[0mself\u001b[0m\u001b[0;34m,\u001b[0m \u001b[0mgradient\u001b[0m\u001b[0;34m,\u001b[0m \u001b[0mretain_graph\u001b[0m\u001b[0;34m,\u001b[0m \u001b[0mcreate_graph\u001b[0m\u001b[0;34m,\u001b[0m \u001b[0mretain_variables\u001b[0m\u001b[0;34m)\u001b[0m\u001b[0;34m\u001b[0m\u001b[0m\n\u001b[0m\u001b[1;32m    168\u001b[0m \u001b[0;34m\u001b[0m\u001b[0m\n\u001b[1;32m    169\u001b[0m     \u001b[0;32mdef\u001b[0m \u001b[0mregister_hook\u001b[0m\u001b[0;34m(\u001b[0m\u001b[0mself\u001b[0m\u001b[0;34m,\u001b[0m \u001b[0mhook\u001b[0m\u001b[0;34m)\u001b[0m\u001b[0;34m:\u001b[0m\u001b[0;34m\u001b[0m\u001b[0m\n",
      "\u001b[0;32m/usr/local/lib/python2.7/dist-packages/torch/autograd/__init__.pyc\u001b[0m in \u001b[0;36mbackward\u001b[0;34m(variables, grad_variables, retain_graph, create_graph, retain_variables)\u001b[0m\n\u001b[1;32m     97\u001b[0m \u001b[0;34m\u001b[0m\u001b[0m\n\u001b[1;32m     98\u001b[0m     Variable._execution_engine.run_backward(\n\u001b[0;32m---> 99\u001b[0;31m         variables, grad_variables, retain_graph)\n\u001b[0m\u001b[1;32m    100\u001b[0m \u001b[0;34m\u001b[0m\u001b[0m\n\u001b[1;32m    101\u001b[0m \u001b[0;34m\u001b[0m\u001b[0m\n",
      "\u001b[0;31mKeyboardInterrupt\u001b[0m: "
     ]
    }
   ],
   "source": [
    "for epoch in range(10):  # loop over the dataset multiple times\n",
    "    running_loss = 0.0\n",
    "    for t, (x, y) in enumerate(trainloader):\n",
    "        inputs, labels = to_var(x), to_var(y.long())\n",
    "        \n",
    "        # zero the parameter gradients\n",
    "        optimizer.zero_grad()\n",
    "\n",
    "        # forward + backward + optimize\n",
    "        outputs = model(inputs)\n",
    "        loss = criterion(outputs, labels)\n",
    "        loss.backward()\n",
    "        optimizer.step()\n",
    "\n",
    "        # print statistics\n",
    "        running_loss += loss.data[0]\n",
    "        if t % 2000 == 0:\n",
    "            print('[%d, %5d] loss: %.3f' %\n",
    "                  (epoch + 1, t + 1, running_loss / 2000))\n",
    "            running_loss = 0.0\n",
    "\n",
    "print('Finished Training')"
   ]
  },
  {
   "cell_type": "code",
   "execution_count": 40,
   "metadata": {},
   "outputs": [],
   "source": [
    "def test(model, loader):\n",
    "\n",
    "    model.eval()\n",
    "\n",
    "    num_correct, num_samples = 0, len(loader.dataset)\n",
    "    for x, y in loader:\n",
    "        x_var = to_var(x, volatile=True)\n",
    "        scores = model(x_var)\n",
    "        _, preds = scores.data.cpu().max(1)\n",
    "        num_correct += (preds == y).sum()\n",
    "\n",
    "    acc = float(num_correct) / num_samples\n",
    "\n",
    "    print('Test accuracy: {:.2f}% ({}/{})'.format(\n",
    "        100.*acc,\n",
    "        num_correct,\n",
    "        num_samples,\n",
    "        ))\n",
    "    \n",
    "    return acc\n"
   ]
  },
  {
   "cell_type": "code",
   "execution_count": 167,
   "metadata": {},
   "outputs": [
    {
     "name": "stdout",
     "output_type": "stream",
     "text": [
      "Test accuracy: 80.70% (8070/10000)\n"
     ]
    },
    {
     "data": {
      "text/plain": [
       "0.807"
      ]
     },
     "execution_count": 167,
     "metadata": {},
     "output_type": "execute_result"
    }
   ],
   "source": [
    "test(model,testloader)"
   ]
  },
  {
   "cell_type": "code",
   "execution_count": 141,
   "metadata": {},
   "outputs": [
    {
     "ename": "TypeError",
     "evalue": "eq received an invalid combination of arguments - got (torch.LongTensor), but expected one of:\n * (int value)\n      didn't match because some of the arguments have invalid types: (\u001b[31;1mtorch.LongTensor\u001b[0m)\n * (torch.cuda.LongTensor other)\n      didn't match because some of the arguments have invalid types: (\u001b[31;1mtorch.LongTensor\u001b[0m)\n",
     "output_type": "error",
     "traceback": [
      "\u001b[0;31m---------------------------------------------------------------------------\u001b[0m",
      "\u001b[0;31mTypeError\u001b[0m                                 Traceback (most recent call last)",
      "\u001b[0;32m<ipython-input-141-f1bb5666cfaa>\u001b[0m in \u001b[0;36m<module>\u001b[0;34m()\u001b[0m\n\u001b[1;32m      8\u001b[0m     \u001b[0m_\u001b[0m\u001b[0;34m,\u001b[0m \u001b[0mpredicted\u001b[0m \u001b[0;34m=\u001b[0m \u001b[0mtorch\u001b[0m\u001b[0;34m.\u001b[0m\u001b[0mmax\u001b[0m\u001b[0;34m(\u001b[0m\u001b[0moutputs\u001b[0m\u001b[0;34m.\u001b[0m\u001b[0mdata\u001b[0m\u001b[0;34m,\u001b[0m \u001b[0;36m1\u001b[0m\u001b[0;34m)\u001b[0m\u001b[0;34m\u001b[0m\u001b[0m\n\u001b[1;32m      9\u001b[0m     \u001b[0mtotal\u001b[0m \u001b[0;34m+=\u001b[0m \u001b[0mlabels\u001b[0m\u001b[0;34m.\u001b[0m\u001b[0msize\u001b[0m\u001b[0;34m(\u001b[0m\u001b[0;36m0\u001b[0m\u001b[0;34m)\u001b[0m\u001b[0;34m\u001b[0m\u001b[0m\n\u001b[0;32m---> 10\u001b[0;31m     \u001b[0mcorrect\u001b[0m \u001b[0;34m+=\u001b[0m \u001b[0;34m(\u001b[0m\u001b[0mpredicted\u001b[0m \u001b[0;34m==\u001b[0m \u001b[0mlabels\u001b[0m\u001b[0;34m)\u001b[0m\u001b[0;34m.\u001b[0m\u001b[0msum\u001b[0m\u001b[0;34m(\u001b[0m\u001b[0;34m)\u001b[0m\u001b[0;34m\u001b[0m\u001b[0m\n\u001b[0m\u001b[1;32m     11\u001b[0m \u001b[0;34m\u001b[0m\u001b[0m\n\u001b[1;32m     12\u001b[0m print('Accuracy of the network on the 10000 test images: %d %%' % (\n",
      "\u001b[0;32m/usr/local/lib/python2.7/dist-packages/torch/tensor.pyc\u001b[0m in \u001b[0;36m__eq__\u001b[0;34m(self, other)\u001b[0m\n\u001b[1;32m    346\u001b[0m \u001b[0;34m\u001b[0m\u001b[0m\n\u001b[1;32m    347\u001b[0m     \u001b[0;32mdef\u001b[0m \u001b[0m__eq__\u001b[0m\u001b[0;34m(\u001b[0m\u001b[0mself\u001b[0m\u001b[0;34m,\u001b[0m \u001b[0mother\u001b[0m\u001b[0;34m)\u001b[0m\u001b[0;34m:\u001b[0m\u001b[0;34m\u001b[0m\u001b[0m\n\u001b[0;32m--> 348\u001b[0;31m         \u001b[0;32mreturn\u001b[0m \u001b[0mself\u001b[0m\u001b[0;34m.\u001b[0m\u001b[0meq\u001b[0m\u001b[0;34m(\u001b[0m\u001b[0mother\u001b[0m\u001b[0;34m)\u001b[0m\u001b[0;34m\u001b[0m\u001b[0m\n\u001b[0m\u001b[1;32m    349\u001b[0m \u001b[0;34m\u001b[0m\u001b[0m\n\u001b[1;32m    350\u001b[0m     \u001b[0;32mdef\u001b[0m \u001b[0m__ne__\u001b[0m\u001b[0;34m(\u001b[0m\u001b[0mself\u001b[0m\u001b[0;34m,\u001b[0m \u001b[0mother\u001b[0m\u001b[0;34m)\u001b[0m\u001b[0;34m:\u001b[0m\u001b[0;34m\u001b[0m\u001b[0m\n",
      "\u001b[0;31mTypeError\u001b[0m: eq received an invalid combination of arguments - got (torch.LongTensor), but expected one of:\n * (int value)\n      didn't match because some of the arguments have invalid types: (\u001b[31;1mtorch.LongTensor\u001b[0m)\n * (torch.cuda.LongTensor other)\n      didn't match because some of the arguments have invalid types: (\u001b[31;1mtorch.LongTensor\u001b[0m)\n"
     ]
    }
   ],
   "source": [
    "correct = 0\n",
    "total = 0\n",
    "for data in testloader:\n",
    "    images, labels = data\n",
    "    images, labels = to_var(images), labels.long()\n",
    "\n",
    "    outputs = vgg_model(images)\n",
    "    _, predicted = torch.max(outputs.data, 1)\n",
    "    total += labels.size(0)\n",
    "    correct += (predicted == labels).sum()\n",
    "\n",
    "print('Accuracy of the network on the 10000 test images: %d %%' % (\n",
    "    100 * correct / total))\n"
   ]
  },
  {
   "cell_type": "code",
   "execution_count": 404,
   "metadata": {},
   "outputs": [
    {
     "name": "stdout",
     "output_type": "stream",
     "text": [
      "Layer 1 | Conv layer | 0.00% parameters pruned\n",
      "Layer 2 | Conv layer | 0.00% parameters pruned\n",
      "Layer 3 | Conv layer | 0.00% parameters pruned\n",
      "Layer 4 | Conv layer | 0.00% parameters pruned\n",
      "Layer 5 | Conv layer | 0.00% parameters pruned\n",
      "Layer 6 | Conv layer | 0.00% parameters pruned\n",
      "Layer 7 | Conv layer | 0.00% parameters pruned\n",
      "Layer 8 | Conv layer | 0.00% parameters pruned\n",
      "Layer 9 | Conv layer | 0.00% parameters pruned\n",
      "Layer 10 | Conv layer | 0.00% parameters pruned\n",
      "Layer 11 | Conv layer | 0.00% parameters pruned\n",
      "Layer 12 | Conv layer | 0.00% parameters pruned\n",
      "Layer 13 | Conv layer | 0.00% parameters pruned\n",
      "Layer 14 | Conv layer | 0.00% parameters pruned\n",
      "Layer 15 | Conv layer | 0.00% parameters pruned\n",
      "Layer 16 | Conv layer | 0.00% parameters pruned\n",
      "Layer 17 | Linear layer | 0.00% parameters pruned\n",
      "Layer 18 | Linear layer | 0.00% parameters pruned\n",
      "Layer 19 | Linear layer | 0.00% parameters pruned\n",
      "Final pruning rate: 0.00%\n"
     ]
    },
    {
     "data": {
      "text/plain": [
       "0.0"
      ]
     },
     "execution_count": 404,
     "metadata": {},
     "output_type": "execute_result"
    }
   ],
   "source": [
    "prune_rate(model)"
   ]
  },
  {
   "cell_type": "code",
   "execution_count": 405,
   "metadata": {},
   "outputs": [
    {
     "name": "stdout",
     "output_type": "stream",
     "text": [
      "[[ -95.66773298  175.19038985 -103.59290711]\n",
      " [ 121.81439693  753.62593817  124.58494908]\n",
      " [-127.11425347  161.19584075 -140.57709652]]\n"
     ]
    },
    {
     "data": {
      "text/plain": [
       "<matplotlib.image.AxesImage at 0x7f0f6e743b50>"
      ]
     },
     "execution_count": 405,
     "metadata": {},
     "output_type": "execute_result"
    },
    {
     "data": {
      "image/png": "[encoded data removed]",
      "text/plain": [
       "<matplotlib.figure.Figure at 0x7f0f6ebafb50>"
      ]
     },
     "metadata": {},
     "output_type": "display_data"
    }
   ],
   "source": [
    "def plot_kernels(tensor, num_cols=6):\n",
    "    if not tensor.ndim==4:\n",
    "        raise Exception(\"assumes a 4D tensor\")\n",
    "    if not tensor.shape[-1]==3:\n",
    "        raise Exception(\"last dim needs to be 3 to plot\")\n",
    "    num_kernels = tensor.shape[0]\n",
    "    num_rows = 1+ num_kernels // num_cols\n",
    "    fig = plt.figure(figsize=(num_cols,num_rows))\n",
    "    for i in range(tensor.shape[0]):\n",
    "        ax1 = fig.add_subplot(num_rows,num_cols,i+1)\n",
    "        ax1.imshow(tensor[i])\n",
    "        ax1.axis('off')\n",
    "        ax1.set_xticklabels([])\n",
    "        ax1.set_yticklabels([])\n",
    "\n",
    "    plt.subplots_adjust(wspace=0.1, hspace=0.1)\n",
    "    plt.show()\n",
    "    \n",
    "mm = model.cuda().double()\n",
    "filters = mm.modules\n",
    "layers=np.zeros((3,3))\n",
    "body_model = [i for i in mm.children()][0]\n",
    "for i in body_model:\n",
    "    if isinstance(i,MaskedConv2d):\n",
    "        tensor = i.weight.cpu().data.numpy()\n",
    "        shape = np.shape(tensor)\n",
    "        layers+=np.sum(np.sum(tensor,axis=0),axis=0)\n",
    "print layers\n",
    "plt.figure()\n",
    "plt.imshow(tensor[0][0])"
   ]
  },
  {
   "cell_type": "code",
   "execution_count": 147,
   "metadata": {},
   "outputs": [
    {
     "name": "stdout",
     "output_type": "stream",
     "text": [
      "Accuracy of plane :  2 %\n",
      "Accuracy of   car :  1 %\n",
      "Accuracy of  bird :  0 %\n",
      "Accuracy of   cat :  0 %\n",
      "Accuracy of  deer : 69 %\n",
      "Accuracy of   dog : 25 %\n",
      "Accuracy of  frog :  0 %\n",
      "Accuracy of horse :  0 %\n",
      "Accuracy of  ship :  0 %\n",
      "Accuracy of truck :  0 %\n"
     ]
    }
   ],
   "source": [
    "class_correct = list(0. for i in range(10))\n",
    "class_total = list(0. for i in range(10))\n",
    "model = model.float()\n",
    "for data in testloader:\n",
    "    images, labels = data\n",
    "    images, labels = to_var(images),labels\n",
    "    outputs = vgg_model(images)\n",
    "    _, predicted = torch.max(outputs.data, 1)\n",
    "    c = (predicted.cpu().numpy() == labels.numpy()).squeeze()\n",
    "    for i in range(4):\n",
    "        label = labels[i]\n",
    "        class_correct[label] += c[i]\n",
    "        class_total[label] += 1\n",
    "\n",
    "\n",
    "for i in range(10):\n",
    "    print('Accuracy of %5s : %2d %%' % (\n",
    "        classes[i], 100 * class_correct[i] / class_total[i]))\n"
   ]
  },
  {
   "cell_type": "code",
   "execution_count": 16,
   "metadata": {},
   "outputs": [],
   "source": [
    "class PruneWrapSparse():\n",
    "    def __init__(self,train_start,model,sparsity_initial,sparsity_target,prune_steps,update_rate,train):\n",
    "        #model params\n",
    "        self.model = model.float()\n",
    "        self.criterion = torch.nn.CrossEntropyLoss()\n",
    "        self.train_loader = train\n",
    "        self.optimizer = optim.SGD(self.model.parameters(), lr=0.0001, momentum=0.9)\n",
    "        \n",
    "        #bookkeeping\n",
    "        self.current_sparsity=0\n",
    "        self.sparsity_target = sparsity_target\n",
    "        self.sparsity_initial = sparsity_initial\n",
    "        self.train_step = train_start\n",
    "        self.prune_steps =prune_steps\n",
    "        self.update_rate = update_rate\n",
    "        self.prunning = True\n",
    "        self.running_loss = 0\n",
    "        self.loss_over_time=[]\n",
    "        self.sparsity_over_time=[]\n",
    "        self.epoch=[]\n",
    "        self.train1 = 0.0\n",
    "        \n",
    "    def to_string(self):\n",
    "        print \"current sparsity: \" + str(self.current_sparsity)\n",
    "        print \"sparsity target: \"+ str(self.sparsity_target)\n",
    "        print \"initial sparsity: \" + str(self.sparsity_initial)\n",
    "        print \"current train step: \"+ str(self.train_step)\n",
    "        print \"prune steps: \"+str(self.prune_steps)\n",
    "        print \"prunning rate: \"+str(self.update_rate)\n",
    "        \n",
    "    def test(self,test_data_loader):\n",
    "        self.model.eval()\n",
    "        \n",
    "        correct, samples = 0, len(test_data_loader.dataset)\n",
    "        for x, y in test_data_loader:\n",
    "            x_var = to_var(x, volatile=True)\n",
    "            scores = self.model(x_var)\n",
    "            _, preds = scores.data.cpu().max(1)\n",
    "            correct += (preds == y).sum()\n",
    "\n",
    "        return float(correct)/samples\n",
    "    \n",
    "    def reset(self):\n",
    "        self.current_sparsity=0.\n",
    "        self.train_step = 0.\n",
    "        self.current_sparsity = 0.\n",
    "    \n",
    "    def compute_current_target(self):\n",
    "        return self.sparsity_target+(self.sparsity_initial-self.sparsity_target)*(1-(float(self.train_step)/(self.prune_steps*self.update_rate)))**3\n",
    "    \n",
    "    def train(self, optimizer = None, epoches = 10):\n",
    "        print \"training\"\n",
    "        start = time.time()\n",
    "        for i in range(epoches):\n",
    "            print self.to_string()\n",
    "            print \"epoch: \", i\n",
    "            print self.current_sparsity\n",
    "            for batch, label in self.train_loader:\n",
    "                #stop prunning?\n",
    "                if self.prunning and self.current_sparsity >= self.sparsity_target:\n",
    "                    self.prunning = False\n",
    "                    print \"finished prunning\"\n",
    "                #should i prune?\n",
    "                if self.train_step%self.update_rate==0:\n",
    "                    print self.train_step\n",
    "                    print self.running_loss/float(self.update_rate)\n",
    "                    if self.prunning:\n",
    "                        self.prune()\n",
    "                    self.running_loss = 0.0\n",
    "                    print prune_rate(self.model)\n",
    "\n",
    "                #train\n",
    "                batch,label = (to_var(batch),to_var(label))\n",
    "                self.optimizer.zero_grad()\n",
    "                loss = self.criterion(self.model(batch), label)\n",
    "                loss.backward()\n",
    "                self.optimizer.step()\n",
    "                self.running_loss+=loss.data[0]\n",
    "                self.train_step+=1\n",
    "                self.train1+=loss.data[0]\n",
    "                if self.train_step %3000 ==0:\n",
    "                    self.epoch.append(self.test(testloader))\n",
    "                    self.train1 = 0\n",
    "            print prune_rate(self.model)\n",
    "            print self.test(testloader)\n",
    "        print \"Finished fine tuning.\"\n",
    "        print \"Time elapsed:\" + str((time.time() - start))\n",
    "\n",
    "    def prune(self):#all conv layers for now\n",
    "        current_sparsity_target = self.compute_current_target()\n",
    "        print current_sparsity_target\n",
    "        print self.to_string()\n",
    "        for seq in list(self.model.children()):\n",
    "            for layer in seq:\n",
    "                if isinstance(layer, MaskedLinear) or isinstance(layer, MaskedConv2d):\n",
    "                    #find weight threshold for layer\n",
    "                    weight_threshold = self.get_weight_threshold(layer.parameters(),current_sparsity_target) \n",
    "                    #set mask\n",
    "                    mask = self.get_prune_mask(layer,weight_threshold)\n",
    "                    #prune\n",
    "                    layer.set_mask(mask)\n",
    "        self.sparsity_over_time.append(current_sparsity_target)\n",
    "        self.current_sparsity = current_sparsity_target # more accurate actually figure out hw much was prunned\n",
    "        self.loss_over_time.append(self.running_loss/float(self.update_rate))\n",
    "    \n",
    "        \n",
    "    def get_prune_mask(self,layer,threshold):\n",
    "        # generate mask\n",
    "        p=layer.weight.data.abs()\n",
    "        pruned_inds = p > threshold\n",
    "        return pruned_inds.float()\n",
    "        \n",
    "    def save_weight_hist(self,params):\n",
    "        params = []\n",
    "        plt.figure()\n",
    "        for p in self.model.parameters():\n",
    "            params.extend(list(p.data.cpu().abs().numpy().flatten()))\n",
    "        plt.hist(params,bins=100,range=[0, 1])\n",
    "        plt.show()\n",
    "        \n",
    "    def get_weight_threshold(self,params,percent_to_prune):\n",
    "        weights=[]\n",
    "        for param in params:\n",
    "            if len(list(param.cpu().data.abs().numpy().flatten()))>1:\n",
    "                weights.extend(list(param.cpu().data.abs().numpy().flatten()))\n",
    "        threshold = np.percentile(np.array(weights),percent_to_prune*100)\n",
    "        #print len(np.nonzero(np.array(weights)))/float(len(weights))\n",
    "        return threshold\n",
    "\n",
    "    def calculate_current_model_size(self):\n",
    "        total_nb_param = 0\n",
    "        non_zero_param = 0\n",
    "        for parameter in self.model.parameters():\n",
    "            total_nb_param += np.size(parameter.cpu().data.abs().numpy())\n",
    "            non_zero_param += np.count_nonzero(parameter.cpu().data.abs().numpy()>0)\n",
    "        print \"model sparsity: \", 1-float(non_zero_param)/total_nb_param\n",
    "        bits = 32 #32 bit floats\n",
    "        return bits*non_zero_param\n",
    "   \n",
    "    def calculate_current_model_inference_time(self,samples=10):\n",
    "        time_sum =0\n",
    "        for i in range(samples):\n",
    "            (batch, label) = next(iter(self.train_loader))\n",
    "            input = to_var(batch.float())\n",
    "            start = time.time()\n",
    "            output = self.model(input)\n",
    "            time_sum+=time.time() - start\n",
    "        print \"Time elapsed:\" + str((time_sum/float(samples)))    \n",
    "            "
   ]
  },
  {
   "cell_type": "code",
   "execution_count": 283,
   "metadata": {},
   "outputs": [
    {
     "ename": "SyntaxError",
     "evalue": "invalid syntax (<ipython-input-283-6e4a567f749a>, line 1)",
     "output_type": "error",
     "traceback": [
      "\u001b[0;36m  File \u001b[0;32m\"<ipython-input-283-6e4a567f749a>\"\u001b[0;36m, line \u001b[0;32m1\u001b[0m\n\u001b[0;31m    epoch_start,model,sparsity_initial,sparsity_target,prune_steps,update_rate,train,gpu=False):\u001b[0m\n\u001b[0m                                                                                              ^\u001b[0m\n\u001b[0;31mSyntaxError\u001b[0m\u001b[0;31m:\u001b[0m invalid syntax\n"
     ]
    }
   ],
   "source": [
    "epoch_start,model,sparsity_initial,sparsity_target,prune_steps,update_rate,train,gpu=False):"
   ]
  },
  {
   "cell_type": "code",
   "execution_count": 175,
   "metadata": {},
   "outputs": [
    {
     "name": "stdout",
     "output_type": "stream",
     "text": [
      "model sparsity:  1.0\n",
      "657754432\n",
      "Time elapsed:0.00456907749176\n",
      "None\n"
     ]
    }
   ],
   "source": [
    "print prune.calculate_current_model_size()\n",
    "print prune.calculate_current_model_inference_time(10)"
   ]
  },
  {
   "cell_type": "code",
   "execution_count": 17,
   "metadata": {},
   "outputs": [],
   "source": [
    "prune = PruneWrapSparse(0,model,0,.75,100,500,trainloader)"
   ]
  },
  {
   "cell_type": "code",
   "execution_count": 18,
   "metadata": {},
   "outputs": [
    {
     "name": "stdout",
     "output_type": "stream",
     "text": [
      "Layer 1 | Conv layer | 0.00% parameters pruned\n",
      "Layer 2 | Conv layer | 0.00% parameters pruned\n",
      "Layer 3 | Conv layer | 0.00% parameters pruned\n",
      "Layer 4 | Conv layer | 0.00% parameters pruned\n",
      "Layer 5 | Conv layer | 0.00% parameters pruned\n",
      "Layer 6 | Conv layer | 0.00% parameters pruned\n",
      "Layer 7 | Conv layer | 0.00% parameters pruned\n",
      "Layer 8 | Conv layer | 0.00% parameters pruned\n",
      "Layer 9 | Conv layer | 0.00% parameters pruned\n",
      "Layer 10 | Conv layer | 0.00% parameters pruned\n",
      "Layer 11 | Conv layer | 0.00% parameters pruned\n",
      "Layer 12 | Conv layer | 0.00% parameters pruned\n",
      "Layer 13 | Conv layer | 0.00% parameters pruned\n",
      "Layer 14 | Conv layer | 0.00% parameters pruned\n",
      "Layer 15 | Conv layer | 0.00% parameters pruned\n",
      "Layer 16 | Conv layer | 0.00% parameters pruned\n",
      "Layer 17 | Linear layer | 0.00% parameters pruned\n",
      "Layer 18 | Linear layer | 0.00% parameters pruned\n",
      "Layer 19 | Linear layer | 0.00% parameters pruned\n",
      "Final pruning rate: 0.00%\n"
     ]
    },
    {
     "data": {
      "text/plain": [
       "0.0"
      ]
     },
     "execution_count": 18,
     "metadata": {},
     "output_type": "execute_result"
    }
   ],
   "source": [
    "prune_rate(model)"
   ]
  },
  {
   "cell_type": "code",
   "execution_count": 358,
   "metadata": {},
   "outputs": [
    {
     "data": {
      "image/png": "[encoded data removed]",
      "text/plain": [
       "<matplotlib.figure.Figure at 0x7f0f6eeaea90>"
      ]
     },
     "metadata": {},
     "output_type": "display_data"
    }
   ],
   "source": [
    "params = []\n",
    "plt.figure()\n",
    "for p in model.parameters():\n",
    "    params.extend(list(p.data.cpu().abs().numpy().flatten()))\n",
    "plt.hist(params,bins=100,range=[0, .0050])\n",
    "plt.show()\n",
    "        "
   ]
  },
  {
   "cell_type": "code",
   "execution_count": 160,
   "metadata": {},
   "outputs": [
    {
     "name": "stdout",
     "output_type": "stream",
     "text": [
      "[0.0, 0.06519370049238205, 0.027210239917039872, 0.024947272896766664, 0.04021167093515396, 0.02219086182117462, 0.03855616757273674, 0.029483978897333146, 0.02747856941819191, 0.029650130182504654, 0.0289094475209713, 0.027880735576152803, 0.02211495691537857, 0.0267302263379097, 0.01549170196056366, 0.010982877552509308, 0.011556854128837585, 0.009122861206531524, 0.015923032760620116, 0.00663828307390213, 0.011139070212841034, 0.020859219312667848, 0.012059581518173218, 0.032847846925258634, 0.027926816046237944, 0.031210372924804688, 0.013409012377262115, 0.01716043093800545, 0.024219381004571914, 0.018160417020320892, 0.013005426228046417, 0.012911151707172394, 0.017930708199739458, 0.01750793582201004, 0.031143056094646453, 0.04311732774972916, 0.04008971464633942, 0.0270072041451931, 0.018954834401607515, 0.018932074666023254, 0.016342886596918106, 0.025664503395557405, 0.02766636884212494, 0.021070078253746034, 0.0250552698969841, 0.0267739816904068, 0.04334686151146889, 0.027183138400316238, 0.039199352353811265, 0.02949261078238487, 0.04601519536972046, 0.029676381200551986, 0.03833923548460007, 0.040344019562006, 0.03529751598834992, 0.029826373755931855, 0.0325239223241806, 0.0427286993265152, 0.045473022103309634, 0.04019473806023598, 0.0421173298060894, 0.05439152014255524, 0.0461946964263916, 0.03179211553931236, 0.01767056876420975, 0.025416708648204802, 0.03260442066192627, 0.038246647626161576, 0.03052177479863167, 0.04141394490003586, 0.030691088318824767, 0.039824665933847425, 0.03152607560157776, 0.049445346504449844, 0.03652146989107132, 0.05084192341566086, 0.016411147952079774, 0.019099083721637725, 0.016692436814308168, 0.02424764344096184, 0.018647606670856475, 0.01986851727962494, 0.03318627518415451, 0.022213903665542604, 0.018779943704605104, 0.022877811551094054, 0.02357470911741257, 0.03402039557695389, 0.03577311712503433, 0.013873617708683015, 0.014874780297279358, 0.009535769701004029, 0.01028108662366867, 0.011739555418491364, 0.006674332499504089, 0.013156300246715545, 0.012038396954536438, 0.00937635350227356, 0.009240372896194457, 0.004421738505363464, 0.001645257592201233]\n"
     ]
    }
   ],
   "source": [
    "print prune.loss_over_time"
   ]
  },
  {
   "cell_type": "code",
   "execution_count": 221,
   "metadata": {},
   "outputs": [],
   "source": [
    "import pickle\n",
    "with open('lossnew.pkl', 'wb') as f:\n",
    "    pickle.dump(prune.loss_over_time, f)"
   ]
  },
  {
   "cell_type": "code",
   "execution_count": 222,
   "metadata": {},
   "outputs": [],
   "source": [
    "import pickle\n",
    "with open('sparsenew.pkl', 'wb') as f:\n",
    "    pickle.dump(prune.sparsity_over_time, f)"
   ]
  },
  {
   "cell_type": "code",
   "execution_count": 248,
   "metadata": {},
   "outputs": [
    {
     "data": {
      "text/plain": [
       "[<matplotlib.lines.Line2D at 0x7f0f6fc91d50>]"
      ]
     },
     "execution_count": 248,
     "metadata": {},
     "output_type": "execute_result"
    },
    {
     "data": {
      "image/png": "[encoded data removed]",
      "text/plain": [
       "<matplotlib.figure.Figure at 0x7f0f6fd68fd0>"
      ]
     },
     "metadata": {},
     "output_type": "display_data"
    }
   ],
   "source": [
    "N=15\n",
    "a =np.convolve(prune.loss_over_time[1:], np.ones((N,))/N, mode='valid')\n",
    "%matplotlib inline\n",
    "plt.figure()\n",
    "plt.plot(range(len(a)),a)"
   ]
  },
  {
   "cell_type": "code",
   "execution_count": 314,
   "metadata": {},
   "outputs": [],
   "source": [
    "g4 = [.13,.05,.02,.02,.02,.01,.015,.015,.02,.012]\n",
    "g75 = [.13,.03,.015,.015,.02,.035,.04,.03,.014,.01]\n",
    "ng75 = [.8,.5,.3,.26,.15,.12,.092,.053,.022,.022]\n",
    "ng40 = [.8,.4,.33,.26,.15,.12,.092,.053,.022,.022]"
   ]
  },
  {
   "cell_type": "code",
   "execution_count": 316,
   "metadata": {},
   "outputs": [
    {
     "data": {
      "text/plain": [
       "Text(0,0.5,u'Loss (Cross Entropy)')"
      ]
     },
     "execution_count": 316,
     "metadata": {},
     "output_type": "execute_result"
    },
    {
     "data": {
      "image/png": "[encoded data removed]",
      "text/plain": [
       "<matplotlib.figure.Figure at 0x7f0f6d18f490>"
      ]
     },
     "metadata": {},
     "output_type": "display_data"
    }
   ],
   "source": [
    "%matplotlib inline\n",
    "plt.figure()\n",
    "plt.plot(np.arange(10)*10,g4,label = \"Gradual Sparsity = 40%\")\n",
    "plt.plot(np.arange(10)*10,g75,label = \"Gradual Sparsity = 75%\")\n",
    "#plt.plot(np.arange(10)*10,ng75,label = \"Non-Gradual Sparsity = 75%\")\n",
    "#plt.plot(np.arange(10)*10,ng40,label = \"Non-Gradual Sparsity = 75%\")\n",
    "\n",
    "plt.legend(bbox_to_anchor=(1., .85, 1., .102), loc=3,\n",
    "           ncol=2, mode=\"expand\", borderaxespad=0.)\n",
    "plt.title(\"Loss over Training Duration\")\n",
    "plt.xlabel(\"Training Steps (1e5)\")\n",
    "plt.ylabel(\"Loss (Cross Entropy)\")\n"
   ]
  },
  {
   "cell_type": "code",
   "execution_count": 416,
   "metadata": {},
   "outputs": [],
   "source": [
    "pl40 = prune.loss_over_time\n",
    "pa40 = prune.epoch"
   ]
  },
  {
   "cell_type": "code",
   "execution_count": 436,
   "metadata": {},
   "outputs": [],
   "source": [
    "pa87 = prune.epoch\n",
    "p87 = prune.loss_over_time"
   ]
  },
  {
   "cell_type": "code",
   "execution_count": 512,
   "metadata": {},
   "outputs": [],
   "source": [
    "import pickle\n",
    "with open('gsparsenew40l.pkl', 'wb') as f:\n",
    "    pickle.dump(pl40, f)\n",
    "with open('gsparsenew40a.pkl', 'wb') as f:\n",
    "    pickle.dump(pa40, f)"
   ]
  },
  {
   "cell_type": "code",
   "execution_count": 510,
   "metadata": {},
   "outputs": [],
   "source": [
    "import pickle\n",
    "with open('gsparsenew87l.pkl', 'wb') as f:\n",
    "    pickle.dump(p87, f)\n",
    "with open('gsparsenew87a.pkl', 'wb') as f:\n",
    "    pickle.dump(pa87, f)"
   ]
  },
  {
   "cell_type": "code",
   "execution_count": 511,
   "metadata": {},
   "outputs": [],
   "source": [
    "import pickle\n",
    "with open('gsparsenew75l.pkl', 'wb') as f:\n",
    "    pickle.dump(prune.loss_over_time, f)\n",
    "with open('gsparsenew75l.pkl', 'wb') as f:\n",
    "    pickle.dump(prune.epoch, f)"
   ]
  },
  {
   "cell_type": "code",
   "execution_count": 257,
   "metadata": {},
   "outputs": [],
   "source": [
    "import pickle\n",
    "c=None\n",
    "with open('hloss1.pkl', 'r') as f:\n",
    "     c= pickle.load(f)"
   ]
  },
  {
   "cell_type": "code",
   "execution_count": 464,
   "metadata": {},
   "outputs": [],
   "source": [
    "p75a= prune.epoch\n",
    "p75l=prune.loss_over_time"
   ]
  },
  {
   "cell_type": "code",
   "execution_count": 443,
   "metadata": {},
   "outputs": [
    {
     "data": {
      "text/plain": [
       "[<matplotlib.lines.Line2D at 0x7f0f6e76ca10>]"
      ]
     },
     "execution_count": 443,
     "metadata": {},
     "output_type": "execute_result"
    },
    {
     "data": {
      "image/png": "[encoded data removed]",
      "text/plain": [
       "<matplotlib.figure.Figure at 0x7f0f6ee83110>"
      ]
     },
     "metadata": {},
     "output_type": "display_data"
    }
   ],
   "source": [
    "%matplotlib inline\n",
    "plt.figure()\n",
    "plt.plot(range(len(prune.loss_over_time))[1:],prune.loss_over_time[1:])"
   ]
  },
  {
   "cell_type": "code",
   "execution_count": 444,
   "metadata": {},
   "outputs": [
    {
     "data": {
      "text/plain": [
       "[<matplotlib.lines.Line2D at 0x7f0f6e02f510>]"
      ]
     },
     "execution_count": 444,
     "metadata": {},
     "output_type": "execute_result"
    },
    {
     "data": {
      "image/png": "[encoded data removed]",
      "text/plain": [
       "<matplotlib.figure.Figure at 0x7f0f70ba7b90>"
      ]
     },
     "metadata": {},
     "output_type": "display_data"
    }
   ],
   "source": [
    "%matplotlib inline\n",
    "plt.figure()\n",
    "plt.plot(range(len(prune.epoch))[1:],prune.epoch[1:])"
   ]
  },
  {
   "cell_type": "code",
   "execution_count": 505,
   "metadata": {},
   "outputs": [],
   "source": [
    "p1 = np.arange(len(prune.sparsity_over_time))*1000.\n",
    "f=.75-.75*(1-(p1/(100*1000)))**3"
   ]
  },
  {
   "cell_type": "code",
   "execution_count": 506,
   "metadata": {},
   "outputs": [],
   "source": [
    "p2 = np.arange(len(prune.sparsity_over_time))*1000.\n",
    "f1=.875-.875*(1-(p2/(100*1000)))**3"
   ]
  },
  {
   "cell_type": "code",
   "execution_count": 507,
   "metadata": {},
   "outputs": [],
   "source": [
    "p3 = np.arange(len(prune.sparsity_over_time))*1000.\n",
    "f2=.40-.40*(1-(p3/(100*1000)))**3"
   ]
  },
  {
   "cell_type": "code",
   "execution_count": 484,
   "metadata": {},
   "outputs": [
    {
     "data": {
      "text/plain": [
       "Text(0,0.5,u'Cross Entropy Loss')"
      ]
     },
     "execution_count": 484,
     "metadata": {},
     "output_type": "execute_result"
    },
    {
     "data": {
      "image/png": "[encoded data removed]",
      "text/plain": [
       "<matplotlib.figure.Figure at 0x7f0f69d68890>"
      ]
     },
     "metadata": {},
     "output_type": "display_data"
    }
   ],
   "source": [
    "plt.figure()\n",
    "plt.plot(range(len(pl40[1:98])),pl40[1:98],label = \"Gradual Sparsity = 40%\")\n",
    "plt.plot(range(len(p75l[1:98])),p75l[1:98],label=\"Gradual Sparsity = 75%\")\n",
    "plt.plot(range(len(p87[1:98])),p87[1:98],label = \"Gradual Sparsity = 87.5%\")\n",
    "plt.legend(bbox_to_anchor=(0, 1, 1., .102), loc=3,\n",
    "           ncol=2, mode=\"expand\", borderaxespad=0.)\n",
    "plt.xlabel(\"Training Steps (1e3)\")\n",
    "plt.ylabel(\"Cross Entropy Loss\")"
   ]
  },
  {
   "cell_type": "code",
   "execution_count": 474,
   "metadata": {},
   "outputs": [
    {
     "data": {
      "text/plain": [
       "Text(0,0.5,u'top-1-1ccuracy')"
      ]
     },
     "execution_count": 474,
     "metadata": {},
     "output_type": "execute_result"
    },
    {
     "data": {
      "image/png": "[encoded data removed]",
      "text/plain": [
       "<matplotlib.figure.Figure at 0x7f0f6d700dd0>"
      ]
     },
     "metadata": {},
     "output_type": "display_data"
    }
   ],
   "source": [
    "plt.figure()\n",
    "plt.plot(range(len(pa40)),pa40,label = \"Gradual Sparsity = 40%\")\n",
    "plt.plot(range(len(pa87)),pa87,label=\"Gradual Sparsity = 75%\")\n",
    "plt.plot(range(len(p75a)),p75a,label = \"Gradual Sparsity = 87.5%\")\n",
    "plt.legend(bbox_to_anchor=(1., .85, 1., .102), loc=3,\n",
    "           ncol=2, mode=\"expand\", borderaxespad=0.)\n",
    "plt.xlabel(\"Training Steps (3e5)\")\n",
    "plt.ylabel(\"top-1-1ccuracy\")"
   ]
  },
  {
   "cell_type": "code",
   "execution_count": 509,
   "metadata": {},
   "outputs": [
    {
     "data": {
      "text/plain": [
       "Text(0,0.5,u'Sparsity (%)')"
      ]
     },
     "execution_count": 509,
     "metadata": {},
     "output_type": "execute_result"
    },
    {
     "data": {
      "image/png": "[encoded data removed]",
      "text/plain": [
       "<matplotlib.figure.Figure at 0x7f0f697e4110>"
      ]
     },
     "metadata": {},
     "output_type": "display_data"
    }
   ],
   "source": [
    "plt.figure()\n",
    "plt.plot(range(len(prune.sparsity_over_time)),np.array(f2)*100,label=\"Gradual Sparsity = 40%\")\n",
    "plt.plot(range(len(prune.sparsity_over_time)),np.array(f)*100,label = \"Gradual Sparsity = 75%\")\n",
    "plt.plot(range(len(prune.sparsity_over_time)),np.array(f1)*100,label = \"Gradual Sparsity = 87.5%\")\n",
    "plt.legend(bbox_to_anchor=(0, 1, 1., .102), loc=3,\n",
    "           ncol=2, mode=\"expand\", borderaxespad=0.)\n",
    "plt.xlabel(\"Training Steps (1e3)\")\n",
    "plt.ylabel(\"Sparsity (%)\")"
   ]
  },
  {
   "cell_type": "code",
   "execution_count": 442,
   "metadata": {},
   "outputs": [
    {
     "data": {
      "text/plain": [
       "0.9157"
      ]
     },
     "execution_count": 442,
     "metadata": {},
     "output_type": "execute_result"
    }
   ],
   "source": [
    "prune.test(testloader)"
   ]
  },
  {
   "cell_type": "code",
   "execution_count": 1,
   "metadata": {},
   "outputs": [
    {
     "ename": "NameError",
     "evalue": "name 'torch' is not defined",
     "output_type": "error",
     "traceback": [
      "\u001b[0;31m---------------------------------------------------------------------------\u001b[0m",
      "\u001b[0;31mNameError\u001b[0m                                 Traceback (most recent call last)",
      "\u001b[0;32m<ipython-input-1-eb0e54d73b83>\u001b[0m in \u001b[0;36m<module>\u001b[0;34m()\u001b[0m\n\u001b[0;32m----> 1\u001b[0;31m \u001b[0mtorch\u001b[0m\u001b[0;34m.\u001b[0m\u001b[0msave\u001b[0m\u001b[0;34m(\u001b[0m\u001b[0mmodel\u001b[0m\u001b[0;34m.\u001b[0m\u001b[0mstate_dict\u001b[0m\u001b[0;34m(\u001b[0m\u001b[0;34m)\u001b[0m\u001b[0;34m,\u001b[0m \u001b[0;34m'vgg19_pruned_75%_best.pkl'\u001b[0m\u001b[0;34m)\u001b[0m\u001b[0;34m\u001b[0m\u001b[0m\n\u001b[0m",
      "\u001b[0;31mNameError\u001b[0m: name 'torch' is not defined"
     ]
    }
   ],
   "source": [
    "torch.save(model.state_dict(), 'vgg19_pruned_75%_best.pkl')"
   ]
  },
  {
   "cell_type": "code",
   "execution_count": null,
   "metadata": {},
   "outputs": [
    {
     "name": "stdout",
     "output_type": "stream",
     "text": [
      "training\n",
      "current sparsity: 0\n",
      "sparsity target: 0.75\n",
      "initial sparsity: 0\n",
      "current train step: 0\n",
      "prune steps: 100\n",
      "prunning rate: 500\n",
      "None\n",
      "epoch:  0\n",
      "0\n",
      "0\n",
      "0.0\n",
      "0.0\n",
      "current sparsity: 0\n",
      "sparsity target: 0.75\n",
      "initial sparsity: 0\n",
      "current train step: 0\n",
      "prune steps: 100\n",
      "prunning rate: 500\n",
      "None\n",
      "Layer 1 | Conv layer | 0.06% parameters pruned\n",
      "Layer 2 | Conv layer | 0.00% parameters pruned\n",
      "Layer 3 | Conv layer | 0.00% parameters pruned\n",
      "Layer 4 | Conv layer | 0.00% parameters pruned\n",
      "Layer 5 | Conv layer | 0.00% parameters pruned\n",
      "Layer 6 | Conv layer | 0.00% parameters pruned\n",
      "Layer 7 | Conv layer | 0.00% parameters pruned\n",
      "Layer 8 | Conv layer | 0.00% parameters pruned\n",
      "Layer 9 | Conv layer | 0.00% parameters pruned\n",
      "Layer 10 | Conv layer | 0.00% parameters pruned\n",
      "Layer 11 | Conv layer | 0.00% parameters pruned\n",
      "Layer 12 | Conv layer | 0.00% parameters pruned\n",
      "Layer 13 | Conv layer | 0.00% parameters pruned\n",
      "Layer 14 | Conv layer | 0.00% parameters pruned\n",
      "Layer 15 | Conv layer | 0.00% parameters pruned\n",
      "Layer 16 | Conv layer | 0.00% parameters pruned\n",
      "Layer 17 | Linear layer | 0.00% parameters pruned\n",
      "Layer 18 | Linear layer | 0.00% parameters pruned\n",
      "Layer 19 | Linear layer | 0.02% parameters pruned\n",
      "Final pruning rate: 0.00%\n",
      "9.24357131508e-05\n",
      "500\n",
      "0.166974192023\n",
      "0.02227575\n",
      "current sparsity: 0.0\n",
      "sparsity target: 0.75\n",
      "initial sparsity: 0\n",
      "current train step: 500\n",
      "prune steps: 100\n",
      "prunning rate: 500\n",
      "None\n",
      "Layer 1 | Conv layer | 2.26% parameters pruned\n",
      "Layer 2 | Conv layer | 2.23% parameters pruned\n",
      "Layer 3 | Conv layer | 2.23% parameters pruned\n",
      "Layer 4 | Conv layer | 2.23% parameters pruned\n",
      "Layer 5 | Conv layer | 2.23% parameters pruned\n",
      "Layer 6 | Conv layer | 2.23% parameters pruned\n",
      "Layer 7 | Conv layer | 2.23% parameters pruned\n",
      "Layer 8 | Conv layer | 2.23% parameters pruned\n",
      "Layer 9 | Conv layer | 2.23% parameters pruned\n",
      "Layer 10 | Conv layer | 2.23% parameters pruned\n",
      "Layer 11 | Conv layer | 2.23% parameters pruned\n",
      "Layer 12 | Conv layer | 2.23% parameters pruned\n",
      "Layer 13 | Conv layer | 2.23% parameters pruned\n",
      "Layer 14 | Conv layer | 2.23% parameters pruned\n",
      "Layer 15 | Conv layer | 2.23% parameters pruned\n",
      "Layer 16 | Conv layer | 2.23% parameters pruned\n",
      "Layer 17 | Linear layer | 2.23% parameters pruned\n",
      "Layer 18 | Linear layer | 2.23% parameters pruned\n",
      "Layer 19 | Linear layer | 2.25% parameters pruned\n",
      "Final pruning rate: 2.23%\n",
      "2.22750608543\n",
      "1000\n",
      "0.105430402935\n",
      "0.044106\n",
      "current sparsity: 0.02227575\n",
      "sparsity target: 0.75\n",
      "initial sparsity: 0\n",
      "current train step: 1000\n",
      "prune steps: 100\n",
      "prunning rate: 500\n",
      "None\n",
      "Layer 1 | Conv layer | 4.57% parameters pruned\n",
      "Layer 2 | Conv layer | 4.41% parameters pruned\n",
      "Layer 3 | Conv layer | 4.41% parameters pruned\n",
      "Layer 4 | Conv layer | 4.41% parameters pruned\n",
      "Layer 5 | Conv layer | 4.41% parameters pruned\n",
      "Layer 6 | Conv layer | 4.41% parameters pruned\n",
      "Layer 7 | Conv layer | 4.41% parameters pruned\n",
      "Layer 8 | Conv layer | 4.41% parameters pruned\n",
      "Layer 9 | Conv layer | 4.41% parameters pruned\n",
      "Layer 10 | Conv layer | 4.41% parameters pruned\n",
      "Layer 11 | Conv layer | 4.41% parameters pruned\n",
      "Layer 12 | Conv layer | 4.41% parameters pruned\n",
      "Layer 13 | Conv layer | 4.41% parameters pruned\n",
      "Layer 14 | Conv layer | 4.41% parameters pruned\n",
      "Layer 15 | Conv layer | 4.41% parameters pruned\n",
      "Layer 16 | Conv layer | 4.41% parameters pruned\n",
      "Layer 17 | Linear layer | 4.42% parameters pruned\n",
      "Layer 18 | Linear layer | 4.42% parameters pruned\n",
      "Layer 19 | Linear layer | 4.43% parameters pruned\n",
      "Final pruning rate: 4.41%\n",
      "4.41039491164\n",
      "1500\n",
      "0.105705508292\n",
      "0.06549525\n",
      "current sparsity: 0.044106\n",
      "sparsity target: 0.75\n",
      "initial sparsity: 0\n",
      "current train step: 1500\n",
      "prune steps: 100\n",
      "prunning rate: 500\n",
      "None\n",
      "Layer 1 | Conv layer | 6.77% parameters pruned\n",
      "Layer 2 | Conv layer | 6.56% parameters pruned\n",
      "Layer 3 | Conv layer | 6.56% parameters pruned\n",
      "Layer 4 | Conv layer | 6.55% parameters pruned\n",
      "Layer 5 | Conv layer | 6.55% parameters pruned\n",
      "Layer 6 | Conv layer | 6.55% parameters pruned\n",
      "Layer 7 | Conv layer | 6.55% parameters pruned\n",
      "Layer 8 | Conv layer | 6.55% parameters pruned\n",
      "Layer 9 | Conv layer | 6.55% parameters pruned\n",
      "Layer 10 | Conv layer | 6.55% parameters pruned\n",
      "Layer 11 | Conv layer | 6.55% parameters pruned\n",
      "Layer 12 | Conv layer | 6.55% parameters pruned\n",
      "Layer 13 | Conv layer | 6.55% parameters pruned\n",
      "Layer 14 | Conv layer | 6.55% parameters pruned\n",
      "Layer 15 | Conv layer | 6.55% parameters pruned\n",
      "Layer 16 | Conv layer | 6.55% parameters pruned\n",
      "Layer 17 | Linear layer | 6.56% parameters pruned\n",
      "Layer 18 | Linear layer | 6.56% parameters pruned\n",
      "Layer 19 | Linear layer | 6.56% parameters pruned\n",
      "Final pruning rate: 6.55%\n",
      "6.54929406846\n",
      "2000\n",
      "0.0913334813118\n",
      "0.086448\n",
      "current sparsity: 0.06549525\n",
      "sparsity target: 0.75\n",
      "initial sparsity: 0\n",
      "current train step: 2000\n",
      "prune steps: 100\n",
      "prunning rate: 500\n",
      "None\n",
      "Layer 1 | Conv layer | 8.91% parameters pruned\n",
      "Layer 2 | Conv layer | 8.66% parameters pruned\n",
      "Layer 3 | Conv layer | 8.65% parameters pruned\n",
      "Layer 4 | Conv layer | 8.65% parameters pruned\n",
      "Layer 5 | Conv layer | 8.64% parameters pruned\n",
      "Layer 6 | Conv layer | 8.65% parameters pruned\n",
      "Layer 7 | Conv layer | 8.65% parameters pruned\n",
      "Layer 8 | Conv layer | 8.65% parameters pruned\n",
      "Layer 9 | Conv layer | 8.65% parameters pruned\n",
      "Layer 10 | Conv layer | 8.65% parameters pruned\n",
      "Layer 11 | Conv layer | 8.65% parameters pruned\n",
      "Layer 12 | Conv layer | 8.65% parameters pruned\n",
      "Layer 13 | Conv layer | 8.65% parameters pruned\n",
      "Layer 14 | Conv layer | 8.65% parameters pruned\n",
      "Layer 15 | Conv layer | 8.65% parameters pruned\n",
      "Layer 16 | Conv layer | 8.65% parameters pruned\n",
      "Layer 17 | Linear layer | 8.66% parameters pruned\n",
      "Layer 18 | Linear layer | 8.66% parameters pruned\n",
      "Layer 19 | Linear layer | 8.67% parameters pruned\n",
      "Final pruning rate: 8.64%\n",
      "8.6443981574\n",
      "2500\n",
      "0.0791299761534\n",
      "0.10696875\n",
      "current sparsity: 0.086448\n",
      "sparsity target: 0.75\n",
      "initial sparsity: 0\n",
      "current train step: 2500\n",
      "prune steps: 100\n",
      "prunning rate: 500\n",
      "None\n",
      "Layer 1 | Conv layer | 11.05% parameters pruned\n",
      "Layer 2 | Conv layer | 10.71% parameters pruned\n",
      "Layer 3 | Conv layer | 10.71% parameters pruned\n",
      "Layer 4 | Conv layer | 10.70% parameters pruned\n",
      "Layer 5 | Conv layer | 10.69% parameters pruned\n",
      "Layer 6 | Conv layer | 10.70% parameters pruned\n",
      "Layer 7 | Conv layer | 10.70% parameters pruned\n",
      "Layer 8 | Conv layer | 10.70% parameters pruned\n",
      "Layer 9 | Conv layer | 10.70% parameters pruned\n",
      "Layer 10 | Conv layer | 10.70% parameters pruned\n",
      "Layer 11 | Conv layer | 10.70% parameters pruned\n",
      "Layer 12 | Conv layer | 10.70% parameters pruned\n",
      "Layer 13 | Conv layer | 10.70% parameters pruned\n",
      "Layer 14 | Conv layer | 10.70% parameters pruned\n",
      "Layer 15 | Conv layer | 10.70% parameters pruned\n",
      "Layer 16 | Conv layer | 10.70% parameters pruned\n",
      "Layer 17 | Linear layer | 10.71% parameters pruned\n",
      "Layer 18 | Linear layer | 10.71% parameters pruned\n",
      "Layer 19 | Linear layer | 10.72% parameters pruned\n",
      "Final pruning rate: 10.70%\n",
      "10.6963055781\n",
      "3000\n",
      "0.0582080178261\n",
      "0.127062\n",
      "current sparsity: 0.10696875\n",
      "sparsity target: 0.75\n",
      "initial sparsity: 0\n",
      "current train step: 3000\n",
      "prune steps: 100\n",
      "prunning rate: 500\n",
      "None\n",
      "Layer 1 | Conv layer | 13.02% parameters pruned\n",
      "Layer 2 | Conv layer | 12.72% parameters pruned\n",
      "Layer 3 | Conv layer | 12.72% parameters pruned\n",
      "Layer 4 | Conv layer | 12.71% parameters pruned\n",
      "Layer 5 | Conv layer | 12.70% parameters pruned\n",
      "Layer 6 | Conv layer | 12.71% parameters pruned\n",
      "Layer 7 | Conv layer | 12.71% parameters pruned\n",
      "Layer 8 | Conv layer | 12.71% parameters pruned\n",
      "Layer 9 | Conv layer | 12.71% parameters pruned\n",
      "Layer 10 | Conv layer | 12.71% parameters pruned\n",
      "Layer 11 | Conv layer | 12.71% parameters pruned\n",
      "Layer 12 | Conv layer | 12.71% parameters pruned\n",
      "Layer 13 | Conv layer | 12.71% parameters pruned\n",
      "Layer 14 | Conv layer | 12.71% parameters pruned\n",
      "Layer 15 | Conv layer | 12.71% parameters pruned\n",
      "Layer 16 | Conv layer | 12.71% parameters pruned\n",
      "Layer 17 | Linear layer | 12.72% parameters pruned\n",
      "Layer 18 | Linear layer | 12.73% parameters pruned\n",
      "Layer 19 | Linear layer | 12.73% parameters pruned\n",
      "Final pruning rate: 12.71%\n",
      "12.7054882391\n",
      "3500\n",
      "0.0281974110603\n",
      "0.14673225\n",
      "current sparsity: 0.127062\n",
      "sparsity target: 0.75\n",
      "initial sparsity: 0\n",
      "current train step: 3500\n",
      "prune steps: 100\n",
      "prunning rate: 500\n",
      "None\n",
      "Layer 1 | Conv layer | 15.05% parameters pruned\n",
      "Layer 2 | Conv layer | 14.69% parameters pruned\n",
      "Layer 3 | Conv layer | 14.69% parameters pruned\n",
      "Layer 4 | Conv layer | 14.68% parameters pruned\n",
      "Layer 5 | Conv layer | 14.67% parameters pruned\n",
      "Layer 6 | Conv layer | 14.68% parameters pruned\n",
      "Layer 7 | Conv layer | 14.68% parameters pruned\n",
      "Layer 8 | Conv layer | 14.68% parameters pruned\n",
      "Layer 9 | Conv layer | 14.68% parameters pruned\n",
      "Layer 10 | Conv layer | 14.68% parameters pruned\n",
      "Layer 11 | Conv layer | 14.68% parameters pruned\n",
      "Layer 12 | Conv layer | 14.68% parameters pruned\n",
      "Layer 13 | Conv layer | 14.68% parameters pruned\n",
      "Layer 14 | Conv layer | 14.68% parameters pruned\n",
      "Layer 15 | Conv layer | 14.68% parameters pruned\n",
      "Layer 16 | Conv layer | 14.68% parameters pruned\n",
      "Layer 17 | Linear layer | 14.69% parameters pruned\n",
      "Layer 18 | Linear layer | 14.69% parameters pruned\n",
      "Layer 19 | Linear layer | 14.71% parameters pruned\n",
      "Final pruning rate: 14.67%\n",
      "14.6723888589\n"
     ]
    },
    {
     "name": "stdout",
     "output_type": "stream",
     "text": [
      "4000\n",
      "0.0495422883034\n",
      "0.165984\n",
      "current sparsity: 0.14673225\n",
      "sparsity target: 0.75\n",
      "initial sparsity: 0\n",
      "current train step: 4000\n",
      "prune steps: 100\n",
      "prunning rate: 500\n",
      "None\n",
      "Layer 1 | Conv layer | 17.07% parameters pruned\n",
      "Layer 2 | Conv layer | 16.62% parameters pruned\n",
      "Layer 3 | Conv layer | 16.61% parameters pruned\n",
      "Layer 4 | Conv layer | 16.61% parameters pruned\n",
      "Layer 5 | Conv layer | 16.60% parameters pruned\n",
      "Layer 6 | Conv layer | 16.60% parameters pruned\n",
      "Layer 7 | Conv layer | 16.60% parameters pruned\n",
      "Layer 8 | Conv layer | 16.60% parameters pruned\n",
      "Layer 9 | Conv layer | 16.61% parameters pruned\n",
      "Layer 10 | Conv layer | 16.60% parameters pruned\n",
      "Layer 11 | Conv layer | 16.60% parameters pruned\n",
      "Layer 12 | Conv layer | 16.60% parameters pruned\n",
      "Layer 13 | Conv layer | 16.60% parameters pruned\n",
      "Layer 14 | Conv layer | 16.60% parameters pruned\n",
      "Layer 15 | Conv layer | 16.60% parameters pruned\n",
      "Layer 16 | Conv layer | 16.60% parameters pruned\n",
      "Layer 17 | Linear layer | 16.62% parameters pruned\n",
      "Layer 18 | Linear layer | 16.62% parameters pruned\n",
      "Layer 19 | Linear layer | 16.64% parameters pruned\n",
      "Final pruning rate: 16.60%\n",
      "16.5974404259\n",
      "4500\n",
      "0.0281920571327\n",
      "0.18482175\n",
      "current sparsity: 0.165984\n",
      "sparsity target: 0.75\n",
      "initial sparsity: 0\n",
      "current train step: 4500\n",
      "prune steps: 100\n",
      "prunning rate: 500\n",
      "None\n",
      "Layer 1 | Conv layer | 18.98% parameters pruned\n",
      "Layer 2 | Conv layer | 18.50% parameters pruned\n",
      "Layer 3 | Conv layer | 18.50% parameters pruned\n",
      "Layer 4 | Conv layer | 18.49% parameters pruned\n",
      "Layer 5 | Conv layer | 18.48% parameters pruned\n",
      "Layer 6 | Conv layer | 18.49% parameters pruned\n",
      "Layer 7 | Conv layer | 18.49% parameters pruned\n",
      "Layer 8 | Conv layer | 18.49% parameters pruned\n",
      "Layer 9 | Conv layer | 18.49% parameters pruned\n",
      "Layer 10 | Conv layer | 18.49% parameters pruned\n",
      "Layer 11 | Conv layer | 18.49% parameters pruned\n",
      "Layer 12 | Conv layer | 18.49% parameters pruned\n",
      "Layer 13 | Conv layer | 18.49% parameters pruned\n",
      "Layer 14 | Conv layer | 18.49% parameters pruned\n",
      "Layer 15 | Conv layer | 18.49% parameters pruned\n",
      "Layer 16 | Conv layer | 18.49% parameters pruned\n",
      "Layer 17 | Linear layer | 18.51% parameters pruned\n",
      "Layer 18 | Linear layer | 18.51% parameters pruned\n",
      "Layer 19 | Linear layer | 18.52% parameters pruned\n",
      "Final pruning rate: 18.48%\n",
      "18.4810418731\n",
      "5000\n",
      "0.0211724991798\n",
      "0.20325\n",
      "current sparsity: 0.18482175\n",
      "sparsity target: 0.75\n",
      "initial sparsity: 0\n",
      "current train step: 5000\n",
      "prune steps: 100\n",
      "prunning rate: 500\n",
      "None\n",
      "Layer 1 | Conv layer | 20.89% parameters pruned\n",
      "Layer 2 | Conv layer | 20.34% parameters pruned\n",
      "Layer 3 | Conv layer | 20.34% parameters pruned\n",
      "Layer 4 | Conv layer | 20.34% parameters pruned\n",
      "Layer 5 | Conv layer | 20.33% parameters pruned\n",
      "Layer 6 | Conv layer | 20.33% parameters pruned\n",
      "Layer 7 | Conv layer | 20.33% parameters pruned\n",
      "Layer 8 | Conv layer | 20.33% parameters pruned\n",
      "Layer 9 | Conv layer | 20.33% parameters pruned\n",
      "Layer 10 | Conv layer | 20.33% parameters pruned\n",
      "Layer 11 | Conv layer | 20.33% parameters pruned\n",
      "Layer 12 | Conv layer | 20.33% parameters pruned\n",
      "Layer 13 | Conv layer | 20.33% parameters pruned\n",
      "Layer 14 | Conv layer | 20.33% parameters pruned\n",
      "Layer 15 | Conv layer | 20.33% parameters pruned\n",
      "Layer 16 | Conv layer | 20.33% parameters pruned\n",
      "Layer 17 | Linear layer | 20.35% parameters pruned\n",
      "Layer 18 | Linear layer | 20.35% parameters pruned\n",
      "Layer 19 | Linear layer | 20.37% parameters pruned\n",
      "Final pruning rate: 20.32%\n",
      "20.323786735\n",
      "5500\n",
      "0.0297631943226\n",
      "0.22127325\n",
      "current sparsity: 0.20325\n",
      "sparsity target: 0.75\n",
      "initial sparsity: 0\n",
      "current train step: 5500\n",
      "prune steps: 100\n",
      "prunning rate: 500\n",
      "None\n",
      "Layer 1 | Conv layer | 22.74% parameters pruned\n",
      "Layer 2 | Conv layer | 22.15% parameters pruned\n",
      "Layer 3 | Conv layer | 22.14% parameters pruned\n",
      "Layer 4 | Conv layer | 22.14% parameters pruned\n",
      "Layer 5 | Conv layer | 22.13% parameters pruned\n",
      "Layer 6 | Conv layer | 22.13% parameters pruned\n",
      "Layer 7 | Conv layer | 22.13% parameters pruned\n",
      "Layer 8 | Conv layer | 22.13% parameters pruned\n",
      "Layer 9 | Conv layer | 22.14% parameters pruned\n",
      "Layer 10 | Conv layer | 22.13% parameters pruned\n",
      "Layer 11 | Conv layer | 22.13% parameters pruned\n",
      "Layer 12 | Conv layer | 22.13% parameters pruned\n",
      "Layer 13 | Conv layer | 22.13% parameters pruned\n",
      "Layer 14 | Conv layer | 22.13% parameters pruned\n",
      "Layer 15 | Conv layer | 22.13% parameters pruned\n",
      "Layer 16 | Conv layer | 22.13% parameters pruned\n",
      "Layer 17 | Linear layer | 22.16% parameters pruned\n",
      "Layer 18 | Linear layer | 22.16% parameters pruned\n",
      "Layer 19 | Linear layer | 22.17% parameters pruned\n",
      "Final pruning rate: 22.13%\n",
      "22.1259279937\n",
      "6000\n",
      "0.0254591478109\n",
      "0.238896\n",
      "current sparsity: 0.22127325\n",
      "sparsity target: 0.75\n",
      "initial sparsity: 0\n",
      "current train step: 6000\n",
      "prune steps: 100\n",
      "prunning rate: 500\n",
      "None\n",
      "Layer 1 | Conv layer | 24.48% parameters pruned\n",
      "Layer 2 | Conv layer | 23.91% parameters pruned\n",
      "Layer 3 | Conv layer | 23.91% parameters pruned\n",
      "Layer 4 | Conv layer | 23.90% parameters pruned\n",
      "Layer 5 | Conv layer | 23.89% parameters pruned\n",
      "Layer 6 | Conv layer | 23.90% parameters pruned\n",
      "Layer 7 | Conv layer | 23.90% parameters pruned\n",
      "Layer 8 | Conv layer | 23.90% parameters pruned\n",
      "Layer 9 | Conv layer | 23.90% parameters pruned\n",
      "Layer 10 | Conv layer | 23.89% parameters pruned\n",
      "Layer 11 | Conv layer | 23.89% parameters pruned\n",
      "Layer 12 | Conv layer | 23.89% parameters pruned\n",
      "Layer 13 | Conv layer | 23.89% parameters pruned\n",
      "Layer 14 | Conv layer | 23.89% parameters pruned\n",
      "Layer 15 | Conv layer | 23.89% parameters pruned\n",
      "Layer 16 | Conv layer | 23.89% parameters pruned\n",
      "Layer 17 | Linear layer | 23.92% parameters pruned\n",
      "Layer 18 | Linear layer | 23.92% parameters pruned\n",
      "Layer 19 | Linear layer | 23.95% parameters pruned\n",
      "Final pruning rate: 23.89%\n",
      "23.8880494537\n",
      "6500\n",
      "0.0324106168747\n",
      "0.25612275\n",
      "current sparsity: 0.238896\n",
      "sparsity target: 0.75\n",
      "initial sparsity: 0\n",
      "current train step: 6500\n",
      "prune steps: 100\n",
      "prunning rate: 500\n",
      "None\n",
      "Layer 1 | Conv layer | 26.16% parameters pruned\n",
      "Layer 2 | Conv layer | 25.63% parameters pruned\n",
      "Layer 3 | Conv layer | 25.64% parameters pruned\n",
      "Layer 4 | Conv layer | 25.63% parameters pruned\n",
      "Layer 5 | Conv layer | 25.61% parameters pruned\n",
      "Layer 6 | Conv layer | 25.62% parameters pruned\n",
      "Layer 7 | Conv layer | 25.62% parameters pruned\n",
      "Layer 8 | Conv layer | 25.62% parameters pruned\n",
      "Layer 9 | Conv layer | 25.62% parameters pruned\n",
      "Layer 10 | Conv layer | 25.62% parameters pruned\n",
      "Layer 11 | Conv layer | 25.62% parameters pruned\n",
      "Layer 12 | Conv layer | 25.62% parameters pruned\n",
      "Layer 13 | Conv layer | 25.62% parameters pruned\n",
      "Layer 14 | Conv layer | 25.62% parameters pruned\n",
      "Layer 15 | Conv layer | 25.62% parameters pruned\n",
      "Layer 16 | Conv layer | 25.62% parameters pruned\n",
      "Layer 17 | Linear layer | 25.65% parameters pruned\n",
      "Layer 18 | Linear layer | 25.64% parameters pruned\n",
      "Layer 19 | Linear layer | 25.66% parameters pruned\n",
      "Final pruning rate: 25.61%\n",
      "25.6105792382\n",
      "7000\n",
      "0.0325831738114\n",
      "0.272958\n",
      "current sparsity: 0.25612275\n",
      "sparsity target: 0.75\n",
      "initial sparsity: 0\n",
      "current train step: 7000\n",
      "prune steps: 100\n",
      "prunning rate: 500\n",
      "None\n",
      "Layer 1 | Conv layer | 27.89% parameters pruned\n",
      "Layer 2 | Conv layer | 27.32% parameters pruned\n",
      "Layer 3 | Conv layer | 27.32% parameters pruned\n",
      "Layer 4 | Conv layer | 27.31% parameters pruned\n",
      "Layer 5 | Conv layer | 27.30% parameters pruned\n",
      "Layer 6 | Conv layer | 27.30% parameters pruned\n",
      "Layer 7 | Conv layer | 27.30% parameters pruned\n",
      "Layer 8 | Conv layer | 27.30% parameters pruned\n",
      "Layer 9 | Conv layer | 27.31% parameters pruned\n",
      "Layer 10 | Conv layer | 27.30% parameters pruned\n",
      "Layer 11 | Conv layer | 27.30% parameters pruned\n",
      "Layer 12 | Conv layer | 27.30% parameters pruned\n",
      "Layer 13 | Conv layer | 27.30% parameters pruned\n",
      "Layer 14 | Conv layer | 27.30% parameters pruned\n",
      "Layer 15 | Conv layer | 27.30% parameters pruned\n",
      "Layer 16 | Conv layer | 27.30% parameters pruned\n",
      "Layer 17 | Linear layer | 27.33% parameters pruned\n",
      "Layer 18 | Linear layer | 27.32% parameters pruned\n",
      "Layer 19 | Linear layer | 27.36% parameters pruned\n",
      "Final pruning rate: 27.29%\n",
      "27.2939649307\n",
      "7500\n",
      "0.0259384403229\n",
      "0.28940625\n",
      "current sparsity: 0.272958\n",
      "sparsity target: 0.75\n",
      "initial sparsity: 0\n",
      "current train step: 7500\n",
      "prune steps: 100\n",
      "prunning rate: 500\n",
      "None\n",
      "Layer 1 | Conv layer | 29.63% parameters pruned\n",
      "Layer 2 | Conv layer | 28.97% parameters pruned\n",
      "Layer 3 | Conv layer | 28.97% parameters pruned\n",
      "Layer 4 | Conv layer | 28.96% parameters pruned\n",
      "Layer 5 | Conv layer | 28.94% parameters pruned\n",
      "Layer 6 | Conv layer | 28.95% parameters pruned\n",
      "Layer 7 | Conv layer | 28.95% parameters pruned\n",
      "Layer 8 | Conv layer | 28.95% parameters pruned\n",
      "Layer 9 | Conv layer | 28.95% parameters pruned\n",
      "Layer 10 | Conv layer | 28.95% parameters pruned\n",
      "Layer 11 | Conv layer | 28.95% parameters pruned\n",
      "Layer 12 | Conv layer | 28.95% parameters pruned\n",
      "Layer 13 | Conv layer | 28.95% parameters pruned\n",
      "Layer 14 | Conv layer | 28.95% parameters pruned\n",
      "Layer 15 | Conv layer | 28.95% parameters pruned\n",
      "Layer 16 | Conv layer | 28.95% parameters pruned\n",
      "Layer 17 | Linear layer | 28.98% parameters pruned\n",
      "Layer 18 | Linear layer | 28.96% parameters pruned\n",
      "Layer 19 | Linear layer | 29.00% parameters pruned\n",
      "Final pruning rate: 28.94%\n",
      "28.9386054642\n"
     ]
    },
    {
     "name": "stdout",
     "output_type": "stream",
     "text": [
      "8000\n",
      "0.024519808054\n",
      "0.305472\n",
      "current sparsity: 0.28940625\n",
      "sparsity target: 0.75\n",
      "initial sparsity: 0\n",
      "current train step: 8000\n",
      "prune steps: 100\n",
      "prunning rate: 500\n",
      "None\n",
      "Layer 1 | Conv layer | 31.13% parameters pruned\n",
      "Layer 2 | Conv layer | 30.58% parameters pruned\n",
      "Layer 3 | Conv layer | 30.57% parameters pruned\n",
      "Layer 4 | Conv layer | 30.56% parameters pruned\n",
      "Layer 5 | Conv layer | 30.55% parameters pruned\n",
      "Layer 6 | Conv layer | 30.56% parameters pruned\n",
      "Layer 7 | Conv layer | 30.56% parameters pruned\n",
      "Layer 8 | Conv layer | 30.56% parameters pruned\n",
      "Layer 9 | Conv layer | 30.56% parameters pruned\n",
      "Layer 10 | Conv layer | 30.55% parameters pruned\n",
      "Layer 11 | Conv layer | 30.55% parameters pruned\n",
      "Layer 12 | Conv layer | 30.55% parameters pruned\n",
      "Layer 13 | Conv layer | 30.55% parameters pruned\n",
      "Layer 14 | Conv layer | 30.55% parameters pruned\n",
      "Layer 15 | Conv layer | 30.55% parameters pruned\n",
      "Layer 16 | Conv layer | 30.55% parameters pruned\n",
      "Layer 17 | Linear layer | 30.59% parameters pruned\n",
      "Layer 18 | Linear layer | 30.57% parameters pruned\n",
      "Layer 19 | Linear layer | 30.61% parameters pruned\n",
      "Final pruning rate: 30.55%\n",
      "30.545031128\n",
      "8500\n",
      "0.0157377612591\n",
      "0.32115975\n",
      "current sparsity: 0.305472\n",
      "sparsity target: 0.75\n",
      "initial sparsity: 0\n",
      "current train step: 8500\n",
      "prune steps: 100\n",
      "prunning rate: 500\n",
      "None\n",
      "Layer 1 | Conv layer | 32.75% parameters pruned\n",
      "Layer 2 | Conv layer | 32.15% parameters pruned\n",
      "Layer 3 | Conv layer | 32.15% parameters pruned\n",
      "Layer 4 | Conv layer | 32.13% parameters pruned\n",
      "Layer 5 | Conv layer | 32.12% parameters pruned\n",
      "Layer 6 | Conv layer | 32.13% parameters pruned\n",
      "Layer 7 | Conv layer | 32.13% parameters pruned\n",
      "Layer 8 | Conv layer | 32.12% parameters pruned\n",
      "Layer 9 | Conv layer | 32.13% parameters pruned\n",
      "Layer 10 | Conv layer | 32.12% parameters pruned\n",
      "Layer 11 | Conv layer | 32.12% parameters pruned\n",
      "Layer 12 | Conv layer | 32.12% parameters pruned\n",
      "Layer 13 | Conv layer | 32.12% parameters pruned\n",
      "Layer 14 | Conv layer | 32.12% parameters pruned\n",
      "Layer 15 | Conv layer | 32.12% parameters pruned\n",
      "Layer 16 | Conv layer | 32.12% parameters pruned\n",
      "Layer 17 | Linear layer | 32.16% parameters pruned\n",
      "Layer 18 | Linear layer | 32.14% parameters pruned\n",
      "Layer 19 | Linear layer | 32.19% parameters pruned\n",
      "Final pruning rate: 32.11%\n",
      "32.1136846403\n",
      "9000\n",
      "0.0237953153849\n",
      "0.336474\n",
      "current sparsity: 0.32115975\n",
      "sparsity target: 0.75\n",
      "initial sparsity: 0\n",
      "current train step: 9000\n",
      "prune steps: 100\n",
      "prunning rate: 500\n",
      "None\n",
      "Layer 1 | Conv layer | 34.32% parameters pruned\n",
      "Layer 2 | Conv layer | 33.68% parameters pruned\n",
      "Layer 3 | Conv layer | 33.68% parameters pruned\n",
      "Layer 4 | Conv layer | 33.66% parameters pruned\n",
      "Layer 5 | Conv layer | 33.65% parameters pruned\n",
      "Layer 6 | Conv layer | 33.66% parameters pruned\n",
      "Layer 7 | Conv layer | 33.66% parameters pruned\n",
      "Layer 8 | Conv layer | 33.66% parameters pruned\n",
      "Layer 9 | Conv layer | 33.66% parameters pruned\n",
      "Layer 10 | Conv layer | 33.65% parameters pruned\n",
      "Layer 11 | Conv layer | 33.65% parameters pruned\n",
      "Layer 12 | Conv layer | 33.65% parameters pruned\n",
      "Layer 13 | Conv layer | 33.65% parameters pruned\n",
      "Layer 14 | Conv layer | 33.65% parameters pruned\n",
      "Layer 15 | Conv layer | 33.65% parameters pruned\n",
      "Layer 16 | Conv layer | 33.65% parameters pruned\n",
      "Layer 17 | Linear layer | 33.69% parameters pruned\n",
      "Layer 18 | Linear layer | 33.67% parameters pruned\n",
      "Layer 19 | Linear layer | 33.71% parameters pruned\n",
      "Final pruning rate: 33.64%\n",
      "33.6449600692\n",
      "9500\n",
      "0.0321833045483\n",
      "0.35141925\n",
      "current sparsity: 0.336474\n",
      "sparsity target: 0.75\n",
      "initial sparsity: 0\n",
      "current train step: 9500\n",
      "prune steps: 100\n",
      "prunning rate: 500\n",
      "None\n",
      "Layer 1 | Conv layer | 35.82% parameters pruned\n",
      "Layer 2 | Conv layer | 35.18% parameters pruned\n",
      "Layer 3 | Conv layer | 35.17% parameters pruned\n",
      "Layer 4 | Conv layer | 35.16% parameters pruned\n",
      "Layer 5 | Conv layer | 35.14% parameters pruned\n",
      "Layer 6 | Conv layer | 35.15% parameters pruned\n",
      "Layer 7 | Conv layer | 35.15% parameters pruned\n",
      "Layer 8 | Conv layer | 35.15% parameters pruned\n",
      "Layer 9 | Conv layer | 35.16% parameters pruned\n",
      "Layer 10 | Conv layer | 35.15% parameters pruned\n",
      "Layer 11 | Conv layer | 35.15% parameters pruned\n",
      "Layer 12 | Conv layer | 35.15% parameters pruned\n",
      "Layer 13 | Conv layer | 35.15% parameters pruned\n",
      "Layer 14 | Conv layer | 35.15% parameters pruned\n",
      "Layer 15 | Conv layer | 35.15% parameters pruned\n",
      "Layer 16 | Conv layer | 35.15% parameters pruned\n",
      "Layer 17 | Linear layer | 35.19% parameters pruned\n",
      "Layer 18 | Linear layer | 35.17% parameters pruned\n",
      "Layer 19 | Linear layer | 35.21% parameters pruned\n",
      "Final pruning rate: 35.14%\n",
      "35.1393536486\n",
      "10000\n",
      "0.0350657080412\n",
      "0.366\n",
      "current sparsity: 0.35141925\n",
      "sparsity target: 0.75\n",
      "initial sparsity: 0\n",
      "current train step: 10000\n",
      "prune steps: 100\n",
      "prunning rate: 500\n",
      "None\n",
      "Layer 1 | Conv layer | 37.33% parameters pruned\n",
      "Layer 2 | Conv layer | 36.64% parameters pruned\n",
      "Layer 3 | Conv layer | 36.63% parameters pruned\n",
      "Layer 4 | Conv layer | 36.62% parameters pruned\n",
      "Layer 5 | Conv layer | 36.60% parameters pruned\n",
      "Layer 6 | Conv layer | 36.61% parameters pruned\n",
      "Layer 7 | Conv layer | 36.61% parameters pruned\n",
      "Layer 8 | Conv layer | 36.61% parameters pruned\n",
      "Layer 9 | Conv layer | 36.62% parameters pruned\n",
      "Layer 10 | Conv layer | 36.61% parameters pruned\n",
      "Layer 11 | Conv layer | 36.61% parameters pruned\n",
      "Layer 12 | Conv layer | 36.61% parameters pruned\n",
      "Layer 13 | Conv layer | 36.61% parameters pruned\n",
      "Layer 14 | Conv layer | 36.61% parameters pruned\n",
      "Layer 15 | Conv layer | 36.61% parameters pruned\n",
      "Layer 16 | Conv layer | 36.61% parameters pruned\n",
      "Layer 17 | Linear layer | 36.65% parameters pruned\n",
      "Layer 18 | Linear layer | 36.63% parameters pruned\n",
      "Layer 19 | Linear layer | 36.68% parameters pruned\n",
      "Final pruning rate: 36.60%\n",
      "36.5974053976\n",
      "10500\n",
      "0.0303506835699\n",
      "0.38022075\n",
      "current sparsity: 0.366\n",
      "sparsity target: 0.75\n",
      "initial sparsity: 0\n",
      "current train step: 10500\n",
      "prune steps: 100\n",
      "prunning rate: 500\n",
      "None\n",
      "Layer 1 | Conv layer | 38.72% parameters pruned\n",
      "Layer 2 | Conv layer | 38.06% parameters pruned\n",
      "Layer 3 | Conv layer | 38.06% parameters pruned\n",
      "Layer 4 | Conv layer | 38.04% parameters pruned\n",
      "Layer 5 | Conv layer | 38.03% parameters pruned\n",
      "Layer 6 | Conv layer | 38.03% parameters pruned\n",
      "Layer 7 | Conv layer | 38.03% parameters pruned\n",
      "Layer 8 | Conv layer | 38.03% parameters pruned\n",
      "Layer 9 | Conv layer | 38.04% parameters pruned\n",
      "Layer 10 | Conv layer | 38.03% parameters pruned\n",
      "Layer 11 | Conv layer | 38.03% parameters pruned\n",
      "Layer 12 | Conv layer | 38.03% parameters pruned\n",
      "Layer 13 | Conv layer | 38.03% parameters pruned\n",
      "Layer 14 | Conv layer | 38.03% parameters pruned\n",
      "Layer 15 | Conv layer | 38.03% parameters pruned\n",
      "Layer 16 | Conv layer | 38.03% parameters pruned\n",
      "Layer 17 | Linear layer | 38.07% parameters pruned\n",
      "Layer 18 | Linear layer | 38.05% parameters pruned\n",
      "Layer 19 | Linear layer | 38.11% parameters pruned\n",
      "Final pruning rate: 38.02%\n",
      "38.0192953227\n",
      "11000\n",
      "0.0225508726835\n",
      "0.394086\n",
      "current sparsity: 0.38022075\n",
      "sparsity target: 0.75\n",
      "initial sparsity: 0\n",
      "current train step: 11000\n",
      "prune steps: 100\n",
      "prunning rate: 500\n",
      "None\n",
      "Layer 1 | Conv layer | 40.16% parameters pruned\n",
      "Layer 2 | Conv layer | 39.45% parameters pruned\n",
      "Layer 3 | Conv layer | 39.44% parameters pruned\n",
      "Layer 4 | Conv layer | 39.43% parameters pruned\n",
      "Layer 5 | Conv layer | 39.41% parameters pruned\n",
      "Layer 6 | Conv layer | 39.42% parameters pruned\n",
      "Layer 7 | Conv layer | 39.42% parameters pruned\n",
      "Layer 8 | Conv layer | 39.42% parameters pruned\n",
      "Layer 9 | Conv layer | 39.43% parameters pruned\n",
      "Layer 10 | Conv layer | 39.42% parameters pruned\n",
      "Layer 11 | Conv layer | 39.42% parameters pruned\n",
      "Layer 12 | Conv layer | 39.42% parameters pruned\n",
      "Layer 13 | Conv layer | 39.42% parameters pruned\n",
      "Layer 14 | Conv layer | 39.42% parameters pruned\n",
      "Layer 15 | Conv layer | 39.42% parameters pruned\n",
      "Layer 16 | Conv layer | 39.42% parameters pruned\n",
      "Layer 17 | Linear layer | 39.46% parameters pruned\n",
      "Layer 18 | Linear layer | 39.44% parameters pruned\n",
      "Layer 19 | Linear layer | 39.49% parameters pruned\n",
      "Final pruning rate: 39.41%\n",
      "39.405704529\n"
     ]
    }
   ],
   "source": [
    "prune.train()"
   ]
  },
  {
   "cell_type": "code",
   "execution_count": 140,
   "metadata": {},
   "outputs": [],
   "source": [
    "import torch.utils.model_zoo as model_zoo\n",
    "vgg_model1 = vgg19()\n",
    "#sd = torch.load('/home/drc/Downloads/model_best.pth.tar')\n",
    "vgg_model1.load_state_dict(w)\n",
    "vgg_model1 = vgg_model1.cuda()\n",
    "import copy\n",
    "model1 = copy.deepcopy(vgg_model1)"
   ]
  },
  {
   "cell_type": "code",
   "execution_count": 141,
   "metadata": {},
   "outputs": [],
   "source": [
    "criterion = nn.CrossEntropyLoss()\n",
    "optimizer = optim.SGD(model1.parameters(), lr=0.001, momentum=0.9)"
   ]
  },
  {
   "cell_type": "code",
   "execution_count": 142,
   "metadata": {},
   "outputs": [
    {
     "name": "stdout",
     "output_type": "stream",
     "text": [
      "Test accuracy: 80.70% (8070/10000)\n",
      "Test accuracy: 64.71% (6471/10000)\n"
     ]
    },
    {
     "data": {
      "text/plain": [
       "0.6471"
      ]
     },
     "execution_count": 142,
     "metadata": {},
     "output_type": "execute_result"
    }
   ],
   "source": [
    "def prune(model,target):#all conv layers for now\n",
    "        for seq in list(model.children()):\n",
    "            for layer in seq:\n",
    "                if isinstance(layer, MaskedLinear) or isinstance(layer, MaskedConv2d):\n",
    "                    #find weight threshold for layer\n",
    "                    weight_threshold = get_weight_threshold(layer.parameters(),target) \n",
    "                    #set mask\n",
    "                    mask = get_prune_mask(layer,weight_threshold)\n",
    "                    #prune\n",
    "                    layer.set_mask(mask)\n",
    "        \n",
    "def get_prune_mask(layer,threshold):\n",
    "        # generate mask\n",
    "        p=layer.weight.data.abs()\n",
    "        pruned_inds = p > threshold\n",
    "        return pruned_inds.float()\n",
    "\n",
    "        \n",
    "def get_weight_threshold(params,percent_to_prune):\n",
    "        weights=[]\n",
    "        for param in params:\n",
    "            if len(list(param.cpu().data.abs().numpy().flatten()))>1:\n",
    "                weights.extend(list(param.cpu().data.abs().numpy().flatten()))\n",
    "        threshold = np.percentile(np.array(weights),percent_to_prune*100)\n",
    "        #print len(np.nonzero(np.array(weights)))/float(len(weights))\n",
    "        return threshold\n",
    "    \n",
    "test(model1,testloader)\n",
    "\n",
    "# prune the weights\n",
    "prune(model1,.75)\n",
    "test(model1, testloader)"
   ]
  },
  {
   "cell_type": "code",
   "execution_count": 500,
   "metadata": {},
   "outputs": [
    {
     "name": "stdout",
     "output_type": "stream",
     "text": [
      "Layer 1 | Conv layer | 76.50% parameters pruned\n",
      "Layer 2 | Conv layer | 75.08% parameters pruned\n",
      "Layer 3 | Conv layer | 75.06% parameters pruned\n",
      "Layer 4 | Conv layer | 75.03% parameters pruned\n",
      "Layer 5 | Conv layer | 75.01% parameters pruned\n",
      "Layer 6 | Conv layer | 75.01% parameters pruned\n",
      "Layer 7 | Conv layer | 75.02% parameters pruned\n",
      "Layer 8 | Conv layer | 75.02% parameters pruned\n",
      "Layer 9 | Conv layer | 75.03% parameters pruned\n",
      "Layer 10 | Conv layer | 75.02% parameters pruned\n",
      "Layer 11 | Conv layer | 75.02% parameters pruned\n",
      "Layer 12 | Conv layer | 75.01% parameters pruned\n",
      "Layer 13 | Conv layer | 75.01% parameters pruned\n",
      "Layer 14 | Conv layer | 75.01% parameters pruned\n",
      "Layer 15 | Conv layer | 75.01% parameters pruned\n",
      "Layer 16 | Conv layer | 75.01% parameters pruned\n",
      "Layer 17 | Linear layer | 75.08% parameters pruned\n",
      "Layer 18 | Linear layer | 75.06% parameters pruned\n",
      "Layer 19 | Linear layer | 75.06% parameters pruned\n",
      "Final pruning rate: 74.99%\n"
     ]
    },
    {
     "data": {
      "text/plain": [
       "74.99338111643465"
      ]
     },
     "execution_count": 500,
     "metadata": {},
     "output_type": "execute_result"
    }
   ],
   "source": [
    "prune_rate(model1)"
   ]
  },
  {
   "cell_type": "code",
   "execution_count": 144,
   "metadata": {},
   "outputs": [
    {
     "name": "stdout",
     "output_type": "stream",
     "text": [
      "[1,     1] loss: 0.000\n",
      "[1,  1001] loss: 0.842\n",
      "[1,  2001] loss: 0.568\n",
      "[1,  3001] loss: 0.510\n",
      "[1,  4001] loss: 0.446\n",
      "[1,  5001] loss: 0.424\n",
      "[1,  6001] loss: 0.371\n",
      "[1,  7001] loss: 0.381\n",
      "[1,  8001] loss: 0.340\n",
      "[1,  9001] loss: 0.344\n",
      "[1, 10001] loss: 0.330\n",
      "[1, 11001] loss: 0.321\n",
      "[1, 12001] loss: 0.303\n",
      "[2,     1] loss: 0.000\n",
      "[2,  1001] loss: 0.202\n",
      "[2,  2001] loss: 0.246\n",
      "[2,  3001] loss: 0.245\n",
      "[2,  4001] loss: 0.214\n",
      "[2,  5001] loss: 0.225\n",
      "[2,  6001] loss: 0.224\n",
      "[2,  7001] loss: 0.208\n",
      "[2,  8001] loss: 0.207\n",
      "[2,  9001] loss: 0.186\n",
      "[2, 10001] loss: 0.194\n",
      "[2, 11001] loss: 0.224\n",
      "[2, 12001] loss: 0.225\n",
      "[3,     1] loss: 0.000\n",
      "[3,  1001] loss: 0.139\n",
      "[3,  2001] loss: 0.130\n",
      "[3,  3001] loss: 0.137\n",
      "[3,  4001] loss: 0.150\n",
      "[3,  5001] loss: 0.141\n",
      "[3,  6001] loss: 0.196\n",
      "[3,  7001] loss: 0.141\n",
      "[3,  8001] loss: 0.169\n",
      "[3,  9001] loss: 0.166\n",
      "[3, 10001] loss: 0.152\n",
      "[3, 11001] loss: 0.145\n",
      "[3, 12001] loss: 0.156\n",
      "[4,     1] loss: 0.000\n",
      "[4,  1001] loss: 0.100\n",
      "[4,  2001] loss: 0.095\n",
      "[4,  3001] loss: 0.112\n",
      "[4,  4001] loss: 0.112\n",
      "[4,  5001] loss: 0.094\n",
      "[4,  6001] loss: 0.099\n",
      "[4,  7001] loss: 0.105\n",
      "[4,  8001] loss: 0.102\n",
      "[4,  9001] loss: 0.107\n",
      "[4, 10001] loss: 0.112\n",
      "[4, 11001] loss: 0.107\n",
      "[4, 12001] loss: 0.121\n",
      "[5,     1] loss: 0.000\n",
      "[5,  1001] loss: 0.061\n",
      "[5,  2001] loss: 0.078\n",
      "[5,  3001] loss: 0.072\n",
      "[5,  4001] loss: 0.076\n",
      "[5,  5001] loss: 0.085\n",
      "[5,  6001] loss: 0.108\n",
      "[5,  7001] loss: 0.099\n",
      "[5,  8001] loss: 0.088\n",
      "[5,  9001] loss: 0.095\n",
      "[5, 10001] loss: 0.083\n",
      "[5, 11001] loss: 0.094\n",
      "[5, 12001] loss: 0.089\n",
      "[6,     1] loss: 0.000\n",
      "[6,  1001] loss: 0.066\n",
      "[6,  2001] loss: 0.063\n",
      "[6,  3001] loss: 0.045\n",
      "[6,  4001] loss: 0.060\n",
      "[6,  5001] loss: 0.055\n",
      "[6,  6001] loss: 0.077\n",
      "[6,  7001] loss: 0.066\n",
      "[6,  8001] loss: 0.068\n",
      "[6,  9001] loss: 0.070\n",
      "[6, 10001] loss: 0.059\n",
      "[6, 11001] loss: 0.059\n",
      "[6, 12001] loss: 0.060\n",
      "[7,     1] loss: 0.000\n",
      "[7,  1001] loss: 0.048\n",
      "[7,  2001] loss: 0.056\n",
      "[7,  3001] loss: 0.043\n",
      "[7,  4001] loss: 0.082\n",
      "[7,  5001] loss: 0.053\n",
      "[7,  6001] loss: 0.061\n",
      "[7,  7001] loss: 0.059\n",
      "[7,  8001] loss: 0.052\n",
      "[7,  9001] loss: 0.056\n",
      "[7, 10001] loss: 0.060\n",
      "[7, 11001] loss: 0.061\n",
      "[7, 12001] loss: 0.073\n",
      "[8,     1] loss: 0.000\n",
      "[8,  1001] loss: 0.032\n",
      "[8,  2001] loss: 0.048\n",
      "[8,  3001] loss: 0.036\n",
      "[8,  4001] loss: 0.047\n",
      "[8,  5001] loss: 0.042\n",
      "[8,  6001] loss: 0.038\n",
      "[8,  7001] loss: 0.052\n",
      "[8,  8001] loss: 0.050\n",
      "[8,  9001] loss: 0.049\n",
      "[8, 10001] loss: 0.054\n",
      "[8, 11001] loss: 0.050\n",
      "[8, 12001] loss: 0.047\n",
      "[9,     1] loss: 0.000\n",
      "[9,  1001] loss: 0.038\n",
      "[9,  2001] loss: 0.035\n",
      "[9,  3001] loss: 0.044\n",
      "[9,  4001] loss: 0.053\n",
      "[9,  5001] loss: 0.033\n",
      "[9,  6001] loss: 0.038\n",
      "[9,  7001] loss: 0.034\n",
      "[9,  8001] loss: 0.030\n",
      "[9,  9001] loss: 0.042\n",
      "[9, 10001] loss: 0.044\n",
      "[9, 11001] loss: 0.031\n",
      "[9, 12001] loss: 0.069\n",
      "[10,     1] loss: 0.000\n",
      "[10,  1001] loss: 0.036\n",
      "[10,  2001] loss: 0.051\n",
      "[10,  3001] loss: 0.038\n",
      "[10,  4001] loss: 0.037\n",
      "[10,  5001] loss: 0.027\n",
      "[10,  6001] loss: 0.052\n",
      "[10,  7001] loss: 0.041\n",
      "[10,  8001] loss: 0.047\n",
      "[10,  9001] loss: 0.031\n",
      "[10, 10001] loss: 0.042\n",
      "[10, 11001] loss: 0.038\n",
      "[10, 12001] loss: 0.024\n",
      "Finished Training\n"
     ]
    }
   ],
   "source": [
    "losses=[]\n",
    "\n",
    "\n",
    "for epoch in range(10):  # loop over the dataset multiple times\n",
    "    running_loss = 0.0\n",
    "    for t, (x, y) in enumerate(trainloader):\n",
    "        inputs, labels = to_var(x), to_var(y.long())\n",
    "        \n",
    "        # zero the parameter gradients\n",
    "        optimizer.zero_grad()\n",
    "\n",
    "        # forward + backward + optimize\n",
    "        outputs = model1(inputs)\n",
    "        loss = criterion(outputs, labels)\n",
    "        loss.backward()\n",
    "        optimizer.step()\n",
    "\n",
    "        # print statistics\n",
    "        running_loss += loss.data[0]\n",
    "        if t % 1000 == 0:\n",
    "            print('[%d, %5d] loss: %.3f' %\n",
    "                  (epoch + 1, t + 1, running_loss / 1000.))\n",
    "            losses.append(running_loss/1000.)\n",
    "            running_loss = 0.0\n",
    "\n",
    "print('Finished Training')\n",
    "\n",
    "\n",
    "#torch.save(net.state_dict(), 'vgg_pruned.pkl')"
   ]
  },
  {
   "cell_type": "code",
   "execution_count": 145,
   "metadata": {},
   "outputs": [
    {
     "name": "stdout",
     "output_type": "stream",
     "text": [
      "Test accuracy: 89.40% (8940/10000)\n"
     ]
    },
    {
     "data": {
      "text/plain": [
       "0.894"
      ]
     },
     "execution_count": 145,
     "metadata": {},
     "output_type": "execute_result"
    }
   ],
   "source": [
    "test(model1, testloader)"
   ]
  },
  {
   "cell_type": "code",
   "execution_count": 147,
   "metadata": {},
   "outputs": [
    {
     "name": "stdout",
     "output_type": "stream",
     "text": [
      "Layer 1 | Conv layer | 76.50% parameters pruned\n",
      "Layer 2 | Conv layer | 75.08% parameters pruned\n",
      "Layer 3 | Conv layer | 75.06% parameters pruned\n",
      "Layer 4 | Conv layer | 75.03% parameters pruned\n",
      "Layer 5 | Conv layer | 75.01% parameters pruned\n",
      "Layer 6 | Conv layer | 75.01% parameters pruned\n",
      "Layer 7 | Conv layer | 75.02% parameters pruned\n",
      "Layer 8 | Conv layer | 75.02% parameters pruned\n",
      "Layer 9 | Conv layer | 75.03% parameters pruned\n",
      "Layer 10 | Conv layer | 75.02% parameters pruned\n",
      "Layer 11 | Conv layer | 75.02% parameters pruned\n",
      "Layer 12 | Conv layer | 75.01% parameters pruned\n",
      "Layer 13 | Conv layer | 75.01% parameters pruned\n",
      "Layer 14 | Conv layer | 75.01% parameters pruned\n",
      "Layer 15 | Conv layer | 75.01% parameters pruned\n",
      "Layer 16 | Conv layer | 75.01% parameters pruned\n",
      "Layer 17 | Linear layer | 75.08% parameters pruned\n",
      "Layer 18 | Linear layer | 75.06% parameters pruned\n",
      "Layer 19 | Linear layer | 75.06% parameters pruned\n",
      "Final pruning rate: 74.99%\n"
     ]
    },
    {
     "data": {
      "text/plain": [
       "74.99338111643465"
      ]
     },
     "execution_count": 147,
     "metadata": {},
     "output_type": "execute_result"
    }
   ],
   "source": [
    "prune_rate(model1)"
   ]
  },
  {
   "cell_type": "code",
   "execution_count": 146,
   "metadata": {},
   "outputs": [
    {
     "data": {
      "text/plain": [
       "[<matplotlib.lines.Line2D at 0x7f0f706b8cd0>]"
      ]
     },
     "execution_count": 146,
     "metadata": {},
     "output_type": "execute_result"
    },
    {
     "data": {
      "image/png": "[encoded data removed]",
      "text/plain": [
       "<matplotlib.figure.Figure at 0x7f0f70797150>"
      ]
     },
     "metadata": {},
     "output_type": "display_data"
    }
   ],
   "source": [
    "plt.figure()\n",
    "plt.plot(losses)"
   ]
  },
  {
   "cell_type": "markdown",
   "metadata": {
    "collapsed": true
   },
   "source": [
    "### adapted from https://github.com/pytorch/vision/blob/master/torchvision/models/vgg.py"
   ]
  },
  {
   "cell_type": "markdown",
   "metadata": {},
   "source": [
    "notes:\n",
    "\n",
    "questions?:\n",
    "    1. Data involved or data agnostic\n",
    "    2. during training or after\n",
    "    3. Inference citeria, or backprop criteria.\n",
    "    4. at what point during training do you prune\n",
    "    5. using gradient and activation signals if one is high\n",
    "    6. train from scratch work or need long burn in time\n",
    "    7. VGG is notoriously slow to train with large memory footprint, what about squeeznet, arcitectures that are just better\n",
    "    8. layerwise or globally\n",
    "    9. when using speed as metric have to make sure your prunning method is super efficient\n",
    " Channel-wise\n",
    " 10. if not layerwise how do params get masked over time, in what layersc\n",
    "SSL [49] reaches high compression ratio for first few conv\n",
    "layers of LeNet [30] and AlexNet [26]. [54] could work\n",
    "well for fully connected layers. However, training-based\n",
    "approaches are more costly, and the effectiveness for very\n",
    "deep networks on large datasets is rarely exploited\n",
    "\n"
   ]
  }
 ],
 "metadata": {
  "kernelspec": {
   "display_name": "Python 2",
   "language": "python",
   "name": "python2"
  },
  "language_info": {
   "codemirror_mode": {
    "name": "ipython",
    "version": 2
   },
   "file_extension": ".py",
   "mimetype": "text/x-python",
   "name": "python",
   "nbconvert_exporter": "python",
   "pygments_lexer": "ipython2",
   "version": "2.7.12"
  }
 },
 "nbformat": 4,
 "nbformat_minor": 2
}
